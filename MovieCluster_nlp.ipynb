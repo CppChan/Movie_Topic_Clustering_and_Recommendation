{
 "cells": [
  {
   "cell_type": "markdown",
   "metadata": {},
   "source": [
    "# Document Clustering and Topic Modeling"
   ]
  },
  {
   "cell_type": "markdown",
   "metadata": {},
   "source": [
    "In this project,  I use unsupervised learning models to cluster unlabeled documents into different groups, visualize the results and identify their latent topics/structures."
   ]
  },
  {
   "cell_type": "markdown",
   "metadata": {},
   "source": [
    "## Contents"
   ]
  },
  {
   "cell_type": "markdown",
   "metadata": {},
   "source": [
    "<ul>\n",
    "<li>[Part 1: Load Data](#Part-1:-Load-Data)\n",
    "<li>[Part 2: Tokenizing and Stemming](#Part-2:-Tokenizing-and-Stemming)\n",
    "<li>[Part 3: TF-IDF](#Part-3:-TF-IDF)\n",
    "<li>[Part 4: K-means clustering](#Part-4:-K-means-clustering)\n",
    "<li>[Part 5: Topic Modeling - Latent Dirichlet Allocation](#Part-5:-Topic-Modeling---Latent-Dirichlet-Allocation)\n",
    "</ul>"
   ]
  },
  {
   "cell_type": "markdown",
   "metadata": {},
   "source": [
    "# Part 1: Load Data"
   ]
  },
  {
   "cell_type": "code",
   "execution_count": 1,
   "metadata": {},
   "outputs": [],
   "source": [
    "import seaborn"
   ]
  },
  {
   "cell_type": "code",
   "execution_count": 2,
   "metadata": {},
   "outputs": [
    {
     "name": "stdout",
     "output_type": "stream",
     "text": [
      "[nltk_data] Downloading package stopwords to\n",
      "[nltk_data]     /Users/chenxijia/nltk_data...\n",
      "[nltk_data]   Package stopwords is already up-to-date!\n"
     ]
    }
   ],
   "source": [
    "import warnings\n",
    "warnings.filterwarnings('ignore')\n",
    "import numpy as np\n",
    "import pandas as pd\n",
    "import nltk\n",
    "nltk.download('stopwords')\n",
    "import re\n",
    "import os\n",
    "\n",
    "from sklearn import decomposition\n",
    "from sklearn.feature_extraction.text import TfidfVectorizer\n",
    "import matplotlib.pyplot as plt\n",
    "import lda"
   ]
  },
  {
   "cell_type": "markdown",
   "metadata": {},
   "source": [
    "Read data from files. In summary, we have 100 titles and 100 synoposes (combined from imdb and wiki)."
   ]
  },
  {
   "cell_type": "code",
   "execution_count": 3,
   "metadata": {},
   "outputs": [],
   "source": [
    "#import three lists: titles and wikipedia synopses\n",
    "titles = open('./data/title_list.txt').read().split('\\n')\n",
    "titles = titles[:100] #ensures that only the first 100 are read in\n",
    "\n",
    "#The wiki synopses and imdb synopses of each movie is seperated by the keywords \"BREAKS HERE\". \n",
    "#Each synoposes may consist of multiple paragraphs.\n",
    "synopses_wiki = open('./data/synopses_list_wiki.txt').read().split('\\n BREAKS HERE')\n",
    "synopses_wiki = synopses_wiki[:100]\n",
    "\n",
    "synopses_imdb = open('./data/synopses_list_imdb.txt').read().split('\\n BREAKS HERE')\n",
    "synopses_imdb = synopses_imdb[:100]\n",
    "\n",
    "#Combine imdb and wiki to get full synoposes for the top 100 movies. \n",
    "synopses = []\n",
    "for i in range(len(synopses_wiki)):\n",
    "    item = synopses_wiki[i] + synopses_imdb[i]\n",
    "    synopses.append(item)\n",
    "    \n",
    "#Because these synopses have already been ordered in popularity order, \n",
    "#we just need to generate a list of ordered numbers for future usage.\n",
    "ranks = range(len(titles))"
   ]
  },
  {
   "cell_type": "markdown",
   "metadata": {},
   "source": [
    "# Part 2: Tokenizing and Stemming"
   ]
  },
  {
   "cell_type": "markdown",
   "metadata": {
    "collapsed": true
   },
   "source": [
    "Load stopwords and stemmer function from NLTK library.\n",
    "Stop words are words like \"a\", \"the\", or \"in\" which don't convey significant meaning.\n",
    "Stemming is the process of breaking a word down into its root."
   ]
  },
  {
   "cell_type": "code",
   "execution_count": 4,
   "metadata": {},
   "outputs": [
    {
     "name": "stdout",
     "output_type": "stream",
     "text": [
      "We use 179 stop-words from nltk library.\n",
      "[u'i', u'me', u'my', u'myself', u'we', u'our', u'ours', u'ourselves', u'you', u\"you're\"]\n"
     ]
    }
   ],
   "source": [
    "# Use nltk's English stopwords.\n",
    "stopwords = nltk.corpus.stopwords.words('english')\n",
    "\n",
    "print \"We use \" + str(len(stopwords)) + \" stop-words from nltk library.\"\n",
    "print stopwords[:10]"
   ]
  },
  {
   "cell_type": "code",
   "execution_count": 5,
   "metadata": {},
   "outputs": [],
   "source": [
    "from nltk.stem.snowball import SnowballStemmer\n",
    "stemmer = SnowballStemmer(\"english\")\n",
    "\n",
    "#sent_tokenize: split text into sentences\n",
    "#word_tokenize: split sentences into words\n",
    "def tokenization_and_stemming(text):\n",
    "    tokens = [word.lower() for sent in nltk.sent_tokenize(text) for word in nltk.word_tokenize(sent) if word not in stopwords]\n",
    "#     tokens=[]\n",
    "#     for sent in nltk.sent_tokenize(text):\n",
    "#         for word in nltk.word_tokenize(sent):\n",
    "#             if word not in stopwords:\n",
    "#                 tokens.append(word);   \n",
    "    filtered_tokens = []\n",
    "    # filter out any tokens not containing letters (e.g., numeric tokens, raw punctuation)\n",
    "    for token in tokens:\n",
    "        if re.search('[a-zA-Z]', token):\n",
    "            filtered_tokens.append(token)\n",
    "    stems = [stemmer.stem(t) for t in filtered_tokens]#stemmer.stem() used to pick up cigen(stem) in words\n",
    "    return stems\n",
    "\n",
    "def tokenization(text):\n",
    "    tokens = [word.lower() for sent in nltk.sent_tokenize(text) for word in nltk.word_tokenize(sent) if word not in stopwords]\n",
    "    filtered_tokens = []\n",
    "    for token in tokens:\n",
    "        if re.search('[a-zA-Z]', token):\n",
    "            filtered_tokens.append(token)\n",
    "    return filtered_tokens"
   ]
  },
  {
   "cell_type": "code",
   "execution_count": 6,
   "metadata": {},
   "outputs": [
    {
     "name": "stdout",
     "output_type": "stream",
     "text": [
      "[nltk_data] Downloading package punkt to /Users/chenxijia/nltk_data...\n",
      "[nltk_data]   Package punkt is already up-to-date!\n"
     ]
    },
    {
     "data": {
      "text/plain": [
       "[u'look', u'father', \"'s\", u'arm']"
      ]
     },
     "execution_count": 6,
     "metadata": {},
     "output_type": "execute_result"
    }
   ],
   "source": [
    "nltk.download('punkt')\n",
    "tokenization_and_stemming(\"she looked at her father's arm.\")"
   ]
  },
  {
   "cell_type": "markdown",
   "metadata": {},
   "source": [
    "Use our defined functions to analyze (i.e. tokenize, stem) our synoposes."
   ]
  },
  {
   "cell_type": "code",
   "execution_count": 7,
   "metadata": {},
   "outputs": [],
   "source": [
    "#build up a stem list(docs_stemmed) and a complete word list(docs_tokenized)\n",
    "docs_stemmed = []\n",
    "docs_tokenized = []\n",
    "for i in synopses:\n",
    "    tokenized_and_stemmed_results = tokenization_and_stemming(i)\n",
    "    docs_stemmed.extend(tokenized_and_stemmed_results)\n",
    "    \n",
    "    tokenized_results = tokenization(i)\n",
    "    docs_tokenized.extend(tokenized_results)"
   ]
  },
  {
   "cell_type": "markdown",
   "metadata": {},
   "source": [
    "Create a mapping from stemmed words to original tokenized words for result interpretation."
   ]
  },
  {
   "cell_type": "code",
   "execution_count": 8,
   "metadata": {},
   "outputs": [
    {
     "name": "stdout",
     "output_type": "stream",
     "text": [
      "angeles\n"
     ]
    }
   ],
   "source": [
    "#make up a dictionary indicate the complete form of a stem\n",
    "vocab_frame_dict = {docs_stemmed[x]:docs_tokenized[x] for x in range(len(docs_stemmed))}\n",
    "print vocab_frame_dict['angel']"
   ]
  },
  {
   "cell_type": "markdown",
   "metadata": {
    "collapsed": true
   },
   "source": [
    "# Part 3: TF-IDF"
   ]
  },
  {
   "cell_type": "code",
   "execution_count": 13,
   "metadata": {},
   "outputs": [
    {
     "name": "stdout",
     "output_type": "stream",
     "text": [
      "In total, there are 100 synoposes and 538 terms.\n"
     ]
    }
   ],
   "source": [
    "#define vectorizer parameters\n",
    "#max_df(a word appears 8 times in 10 article, then delete it/also, @param min_df->less than 20 percent also delete it)\n",
    "#ngram_range(1,1 only consider single word, 1,2 consider single word and word combination(contains 2 continueous words))\n",
    "#tokenizer(the tokenize and stem model)\n",
    "\n",
    "tfidf_model = TfidfVectorizer(max_df=0.8, max_features=200000,\n",
    "                                 min_df=0.2, stop_words='english',\n",
    "                                 use_idf=True, tokenizer=tokenization_and_stemming, ngram_range=(1,1))\n",
    "\n",
    "tfidf_matrix = tfidf_model.fit_transform(synopses) #fit the vectorizer to synopses\n",
    "\n",
    "print \"In total, there are \" + str(tfidf_matrix.shape[0]) + \\\n",
    "      \" synoposes and \" + str(tfidf_matrix.shape[1]) + \" terms.\""
   ]
  },
  {
   "cell_type": "code",
   "execution_count": 16,
   "metadata": {},
   "outputs": [
    {
     "name": "stdout",
     "output_type": "stream",
     "text": [
      "  (0, 134)\t0.047326762822265396\n",
      "  (0, 133)\t0.10014225622178521\n",
      "  (0, 231)\t0.0406338952993463\n",
      "  (0, 405)\t0.11417147602852429\n",
      "  (0, 327)\t0.07546593975046426\n",
      "  (0, 536)\t0.05900743243383316\n",
      "  (0, 124)\t0.06524084344487102\n",
      "  (0, 192)\t0.5521782660510217\n",
      "  (0, 455)\t0.2395788878566075\n",
      "  (0, 262)\t0.04569219786306756\n",
      "  (0, 234)\t0.045569859238455655\n",
      "  (0, 426)\t0.04645251282033316\n",
      "  (0, 319)\t0.04425557432537487\n",
      "  (0, 230)\t0.11300130397893356\n",
      "  (0, 317)\t0.03421496445764258\n",
      "  (0, 57)\t0.08715061982923508\n",
      "  (0, 434)\t0.04755874823027948\n",
      "  (0, 439)\t0.02457503722508389\n",
      "  (0, 39)\t0.0709901442333981\n",
      "  (0, 167)\t0.030461465242045037\n",
      "  (0, 373)\t0.11417147602852429\n",
      "  (0, 429)\t0.038852562711093365\n",
      "  (0, 390)\t0.07667116833622664\n",
      "  (0, 449)\t0.04569219786306756\n",
      "  (0, 44)\t0.07447840347702878\n",
      "  :\t:\n",
      "  (0, 61)\t0.014986860327103705\n",
      "  (0, 11)\t0.013690156630016555\n",
      "  (0, 26)\t0.014986860327103705\n",
      "  (0, 314)\t0.013309938214255971\n",
      "  (0, 184)\t0.015230732621022518\n",
      "  (0, 410)\t0.009827024310920572\n",
      "  (0, 388)\t0.015230732621022518\n",
      "  (0, 242)\t0.011268944205122892\n",
      "  (0, 316)\t0.015230732621022518\n",
      "  (0, 187)\t0.015747956497314496\n",
      "  (0, 157)\t0.025557056112075545\n",
      "  (0, 465)\t0.02950371621691658\n",
      "  (0, 75)\t0.01244707854212177\n",
      "  (0, 479)\t0.016610816169448695\n",
      "  (0, 19)\t0.01388899843632409\n",
      "  (0, 419)\t0.008385104416718251\n",
      "  (0, 428)\t0.013309938214255971\n",
      "  (0, 208)\t0.010877197064052619\n",
      "  (0, 10)\t0.013497251295253818\n",
      "  (0, 31)\t0.011979753360285356\n",
      "  (0, 400)\t0.015484170940111053\n",
      "  (0, 291)\t0.009113971847691131\n",
      "  (0, 284)\t0.013690156630016555\n",
      "  (0, 272)\t0.016022970291612454\n",
      "  (0, 100)\t0.012287518612541945\n"
     ]
    }
   ],
   "source": [
    "print tfidf_matrix[0]"
   ]
  },
  {
   "cell_type": "code",
   "execution_count": 10,
   "metadata": {},
   "outputs": [
    {
     "data": {
      "text/plain": [
       "{'analyzer': u'word',\n",
       " 'binary': False,\n",
       " 'decode_error': u'strict',\n",
       " 'dtype': numpy.int64,\n",
       " 'encoding': u'utf-8',\n",
       " 'input': u'content',\n",
       " 'lowercase': True,\n",
       " 'max_df': 0.8,\n",
       " 'max_features': 200000,\n",
       " 'min_df': 0.2,\n",
       " 'ngram_range': (1, 1),\n",
       " 'norm': u'l2',\n",
       " 'preprocessor': None,\n",
       " 'smooth_idf': True,\n",
       " 'stop_words': 'english',\n",
       " 'strip_accents': None,\n",
       " 'sublinear_tf': False,\n",
       " 'token_pattern': u'(?u)\\\\b\\\\w\\\\w+\\\\b',\n",
       " 'tokenizer': <function __main__.tokenization_and_stemming>,\n",
       " 'use_idf': True,\n",
       " 'vocabulary': None}"
      ]
     },
     "execution_count": 10,
     "metadata": {},
     "output_type": "execute_result"
    }
   ],
   "source": [
    "tfidf_model.get_params()"
   ]
  },
  {
   "cell_type": "markdown",
   "metadata": {},
   "source": [
    "Save the terms identified by TF-IDF."
   ]
  },
  {
   "cell_type": "code",
   "execution_count": 19,
   "metadata": {},
   "outputs": [],
   "source": [
    "tf_selected_words = tfidf_model.get_feature_names()"
   ]
  },
  {
   "cell_type": "code",
   "execution_count": 20,
   "metadata": {},
   "outputs": [
    {
     "data": {
      "text/plain": [
       "[u\"'d\",\n",
       " u'abandon',\n",
       " u'abl',\n",
       " u'accept',\n",
       " u'accid',\n",
       " u'accompani',\n",
       " u'accus',\n",
       " u'act',\n",
       " u'action',\n",
       " u'actual',\n",
       " u'admit',\n",
       " u'afterward',\n",
       " u'ago',\n",
       " u'agre',\n",
       " u'air',\n",
       " u'aliv',\n",
       " u'allow',\n",
       " u'alon',\n",
       " u'alreadi',\n",
       " u'alway',\n",
       " u'american',\n",
       " u'angri',\n",
       " u'angrili',\n",
       " u'announc',\n",
       " u'anoth',\n",
       " u'answer',\n",
       " u'anyon',\n",
       " u'anyth',\n",
       " u'apart',\n",
       " u'appar',\n",
       " u'appear',\n",
       " u'approach',\n",
       " u'area',\n",
       " u'argu',\n",
       " u'arm',\n",
       " u'armi',\n",
       " u'arrang',\n",
       " u'arrest',\n",
       " u'arriv',\n",
       " u'ask',\n",
       " u'assign',\n",
       " u'assist',\n",
       " u'assum',\n",
       " u'attack',\n",
       " u'attempt',\n",
       " u'attend',\n",
       " u'attent',\n",
       " u'attract',\n",
       " u'audienc',\n",
       " u'avoid',\n",
       " u'away',\n",
       " u'bad',\n",
       " u'bar',\n",
       " u'bare',\n",
       " u'battl',\n",
       " u'beat',\n",
       " u'becom',\n",
       " u'bed',\n",
       " u'beg',\n",
       " u'believ',\n",
       " u'best',\n",
       " u'better',\n",
       " u'big',\n",
       " u'black',\n",
       " u'blow',\n",
       " u'board',\n",
       " u'bodi',\n",
       " u'book',\n",
       " u'boss',\n",
       " u'boy',\n",
       " u'break',\n",
       " u'brief',\n",
       " u'bring',\n",
       " u'broken',\n",
       " u'brother',\n",
       " u'build',\n",
       " u'burn',\n",
       " u'busi',\n",
       " u'buy',\n",
       " u'ca',\n",
       " u'camp',\n",
       " u'captain',\n",
       " u'captur',\n",
       " u'car',\n",
       " u'care',\n",
       " u'career',\n",
       " u'carri',\n",
       " u'case',\n",
       " u'catch',\n",
       " u'caus',\n",
       " u'chanc',\n",
       " u'chang',\n",
       " u'charg',\n",
       " u'chase',\n",
       " u'child',\n",
       " u'children',\n",
       " u'citi',\n",
       " u'claim',\n",
       " u'clear',\n",
       " u'climb',\n",
       " u'close',\n",
       " u'cloth',\n",
       " u'club',\n",
       " u'cold',\n",
       " u'collaps',\n",
       " u'come',\n",
       " u'command',\n",
       " u'commit',\n",
       " u'compani',\n",
       " u'complet',\n",
       " u'concern',\n",
       " u'condit',\n",
       " u'confess',\n",
       " u'confid',\n",
       " u'confront',\n",
       " u'consid',\n",
       " u'continu',\n",
       " u'control',\n",
       " u'convers',\n",
       " u'convinc',\n",
       " u'countri',\n",
       " u'coupl',\n",
       " u'cover',\n",
       " u'cri',\n",
       " u'crime',\n",
       " u'crimin',\n",
       " u'cross',\n",
       " u'crowd',\n",
       " u'cut',\n",
       " u'danc',\n",
       " u'danger',\n",
       " u'dark',\n",
       " u'date',\n",
       " u'daughter',\n",
       " u'day',\n",
       " u'dead',\n",
       " u'deal',\n",
       " u'death',\n",
       " u'decid',\n",
       " u'declar',\n",
       " u'defend',\n",
       " u'deliv',\n",
       " u'demand',\n",
       " u'depart',\n",
       " u'desert',\n",
       " u'desper',\n",
       " u'despit',\n",
       " u'destroy',\n",
       " u'determin',\n",
       " u'develop',\n",
       " u'die',\n",
       " u'differ',\n",
       " u'dinner',\n",
       " u'direct',\n",
       " u'discov',\n",
       " u'discuss',\n",
       " u'doctor',\n",
       " u'door',\n",
       " u'draw',\n",
       " u'dress',\n",
       " u'drink',\n",
       " u'drive',\n",
       " u'drop',\n",
       " u'drunk',\n",
       " u'earli',\n",
       " u'earlier',\n",
       " u'elder',\n",
       " u'emerg',\n",
       " u'empti',\n",
       " u'encount',\n",
       " u'end',\n",
       " u'engag',\n",
       " u'ensu',\n",
       " u'enter',\n",
       " u'entir',\n",
       " u'escap',\n",
       " u'escort',\n",
       " u'event',\n",
       " u'eventu',\n",
       " u'everi',\n",
       " u'everyon',\n",
       " u'everyth',\n",
       " u'evid',\n",
       " u'execut',\n",
       " u'expect',\n",
       " u'experi',\n",
       " u'explain',\n",
       " u'eye',\n",
       " u'face',\n",
       " u'fact',\n",
       " u'fail',\n",
       " u'fall',\n",
       " u'famili',\n",
       " u'far',\n",
       " u'father',\n",
       " u'fear',\n",
       " u'feel',\n",
       " u'fellow',\n",
       " u'field',\n",
       " u'fight',\n",
       " u'figur',\n",
       " u'film',\n",
       " u'final',\n",
       " u'finish',\n",
       " u'flee',\n",
       " u'fli',\n",
       " u'floor',\n",
       " u'follow',\n",
       " u'forc',\n",
       " u'free',\n",
       " u'friend',\n",
       " u'futur',\n",
       " u'general',\n",
       " u'georg',\n",
       " u'girl',\n",
       " u'given',\n",
       " u'goe',\n",
       " u'gone',\n",
       " u'good',\n",
       " u'got',\n",
       " u'grab',\n",
       " u'great',\n",
       " u'group',\n",
       " u'grow',\n",
       " u'guard',\n",
       " u'gun',\n",
       " u'hand',\n",
       " u'hang',\n",
       " u'happen',\n",
       " u'happi',\n",
       " u'head',\n",
       " u'hear',\n",
       " u'heard',\n",
       " u'heart',\n",
       " u'help',\n",
       " u'hidden',\n",
       " u'hide',\n",
       " u'high',\n",
       " u'hire',\n",
       " u'hit',\n",
       " u'hold',\n",
       " u'home',\n",
       " u'hope',\n",
       " u'hospit',\n",
       " u'hour',\n",
       " u'hous',\n",
       " u'howev',\n",
       " u'huge',\n",
       " u'husband',\n",
       " u'idea',\n",
       " u'ii',\n",
       " u'immedi',\n",
       " u'includ',\n",
       " u'inform',\n",
       " u'initi',\n",
       " u'insid',\n",
       " u'insist',\n",
       " u'instead',\n",
       " u'instruct',\n",
       " u'insult',\n",
       " u'intend',\n",
       " u'intent',\n",
       " u'introduc',\n",
       " u'investig',\n",
       " u'invit',\n",
       " u'involv',\n",
       " u'jame',\n",
       " u'job',\n",
       " u'john',\n",
       " u'join',\n",
       " u'jump',\n",
       " u'kill',\n",
       " u'kiss',\n",
       " u'knock',\n",
       " u'know',\n",
       " u'known',\n",
       " u'land',\n",
       " u'larg',\n",
       " u'late',\n",
       " u'lead',\n",
       " u'learn',\n",
       " u'led',\n",
       " u'left',\n",
       " u'let',\n",
       " u'lie',\n",
       " u'life',\n",
       " u'light',\n",
       " u'like',\n",
       " u'line',\n",
       " u'listen',\n",
       " u'littl',\n",
       " u'live',\n",
       " u'll',\n",
       " u'local',\n",
       " u'long',\n",
       " u'look',\n",
       " u'lose',\n",
       " u'lost',\n",
       " u'love',\n",
       " u'main',\n",
       " u'manag',\n",
       " u'mani',\n",
       " u'marri',\n",
       " u'marriag',\n",
       " u'matter',\n",
       " u'mean',\n",
       " u'meanwhil',\n",
       " u'meet',\n",
       " u'member',\n",
       " u'men',\n",
       " u'mention',\n",
       " u'met',\n",
       " u'mind',\n",
       " u'miss',\n",
       " u'moment',\n",
       " u'money',\n",
       " u'month',\n",
       " u'morn',\n",
       " u'mother',\n",
       " u'movi',\n",
       " u'mr.',\n",
       " u'murder',\n",
       " u'music',\n",
       " u\"n't\",\n",
       " u'near',\n",
       " u'nearbi',\n",
       " u'need',\n",
       " u'new',\n",
       " u'news',\n",
       " u'night',\n",
       " u'note',\n",
       " u'noth',\n",
       " u'notic',\n",
       " u'number',\n",
       " u'object',\n",
       " u'observ',\n",
       " u'offer',\n",
       " u'offic',\n",
       " u'old',\n",
       " u'open',\n",
       " u'order',\n",
       " u'outsid',\n",
       " u'pack',\n",
       " u'parent',\n",
       " u'parti',\n",
       " u'pass',\n",
       " u'past',\n",
       " u'pay',\n",
       " u'peopl',\n",
       " u'perform',\n",
       " u'person',\n",
       " u'persuad',\n",
       " u'phone',\n",
       " u'pick',\n",
       " u'pictur',\n",
       " u'place',\n",
       " u'plan',\n",
       " u'play',\n",
       " u'point',\n",
       " u'polic',\n",
       " u'posit',\n",
       " u'possibl',\n",
       " u'power',\n",
       " u'prepar',\n",
       " u'present',\n",
       " u'prevent',\n",
       " u'previous',\n",
       " u'prison',\n",
       " u'privat',\n",
       " u'problem',\n",
       " u'proceed',\n",
       " u'promis',\n",
       " u'propos',\n",
       " u'protect',\n",
       " u'prove',\n",
       " u'provid',\n",
       " u'public',\n",
       " u'pull',\n",
       " u'pursu',\n",
       " u'push',\n",
       " u'question',\n",
       " u'quick',\n",
       " u'quiet',\n",
       " u'reach',\n",
       " u'read',\n",
       " u'readi',\n",
       " u'real',\n",
       " u'realiz',\n",
       " u'realli',\n",
       " u'reason',\n",
       " u'receiv',\n",
       " u'recogn',\n",
       " u'record',\n",
       " u'recov',\n",
       " u'refus',\n",
       " u'relationship',\n",
       " u'releas',\n",
       " u'reluct',\n",
       " u'remain',\n",
       " u'rememb',\n",
       " u'remind',\n",
       " u'remov',\n",
       " u'repeat',\n",
       " u'repli',\n",
       " u'report',\n",
       " u'request',\n",
       " u'rescu',\n",
       " u'respons',\n",
       " u'rest',\n",
       " u'result',\n",
       " u'reveal',\n",
       " u'ride',\n",
       " u'right',\n",
       " u'ring',\n",
       " u'robert',\n",
       " u'room',\n",
       " u'run',\n",
       " u'rush',\n",
       " u'save',\n",
       " u'say',\n",
       " u'scene',\n",
       " u'school',\n",
       " u'scream',\n",
       " u'search',\n",
       " u'second',\n",
       " u'secret',\n",
       " u'secur',\n",
       " u'seek',\n",
       " u'seen',\n",
       " u'send',\n",
       " u'sent',\n",
       " u'serv',\n",
       " u'servic',\n",
       " u'set',\n",
       " u'sever',\n",
       " u'share',\n",
       " u'ship',\n",
       " u'shock',\n",
       " u'shoot',\n",
       " u'short',\n",
       " u'shot',\n",
       " u'shout',\n",
       " u'sign',\n",
       " u'silent',\n",
       " u'sinc',\n",
       " u'sing',\n",
       " u'sister',\n",
       " u'sit',\n",
       " u'situat',\n",
       " u'sleep',\n",
       " u'slip',\n",
       " u'small',\n",
       " u'soldier',\n",
       " u'someon',\n",
       " u'someth',\n",
       " u'son',\n",
       " u'soon',\n",
       " u'speak',\n",
       " u'spend',\n",
       " u'spot',\n",
       " u'stand',\n",
       " u'start',\n",
       " u'state',\n",
       " u'station',\n",
       " u'stay',\n",
       " u'step',\n",
       " u'stop',\n",
       " u'stori',\n",
       " u'storm',\n",
       " u'street',\n",
       " u'strike',\n",
       " u'struggl',\n",
       " u'success',\n",
       " u'sudden',\n",
       " u'suffer',\n",
       " u'suggest',\n",
       " u'suicid',\n",
       " u'support',\n",
       " u'surpris',\n",
       " u'surround',\n",
       " u'surviv',\n",
       " u'suspect',\n",
       " u'taken',\n",
       " u'talk',\n",
       " u'tear',\n",
       " u'thing',\n",
       " u'think',\n",
       " u'thought',\n",
       " u'threaten',\n",
       " u'throw',\n",
       " u'togeth',\n",
       " u'told',\n",
       " u'took',\n",
       " u'town',\n",
       " u'train',\n",
       " u'travel',\n",
       " u'trip',\n",
       " u'troubl',\n",
       " u'turn',\n",
       " u'unabl',\n",
       " u'understand',\n",
       " u'unit',\n",
       " u'use',\n",
       " u've',\n",
       " u'view',\n",
       " u'visit',\n",
       " u'voic',\n",
       " u'wait',\n",
       " u'walk',\n",
       " u'wall',\n",
       " u'want',\n",
       " u'war',\n",
       " u'warn',\n",
       " u'watch',\n",
       " u'water',\n",
       " u'way',\n",
       " u'wear',\n",
       " u'week',\n",
       " u'white',\n",
       " u'wife',\n",
       " u'william',\n",
       " u'win',\n",
       " u'window',\n",
       " u'wish',\n",
       " u'wit',\n",
       " u'wo',\n",
       " u'woman',\n",
       " u'women',\n",
       " u'word',\n",
       " u'work',\n",
       " u'world',\n",
       " u'worri',\n",
       " u'wound',\n",
       " u'write',\n",
       " u'wrong',\n",
       " u'year',\n",
       " u'york',\n",
       " u'young']"
      ]
     },
     "execution_count": 20,
     "metadata": {},
     "output_type": "execute_result"
    }
   ],
   "source": [
    "tf_selected_words"
   ]
  },
  {
   "cell_type": "code",
   "execution_count": 21,
   "metadata": {},
   "outputs": [
    {
     "data": {
      "text/plain": [
       "array([[0.01548417, 0.        , 0.        , ..., 0.08116415, 0.05900743,\n",
       "        0.0406339 ],\n",
       "       [0.05836682, 0.        , 0.0244088 , ..., 0.05948916, 0.        ,\n",
       "        0.00957297],\n",
       "       [0.        , 0.        , 0.01960667, ..., 0.        , 0.        ,\n",
       "        0.        ],\n",
       "       ...,\n",
       "       [0.01356779, 0.        , 0.        , ..., 0.        , 0.        ,\n",
       "        0.01780244],\n",
       "       [0.01434229, 0.0296827 , 0.03598737, ..., 0.00835319, 0.02732796,\n",
       "        0.01881867],\n",
       "       [0.20623577, 0.        , 0.        , ..., 0.06005757, 0.        ,\n",
       "        0.06765104]])"
      ]
     },
     "execution_count": 21,
     "metadata": {},
     "output_type": "execute_result"
    }
   ],
   "source": [
    "#there are 100 subarray in this array, each indicates a synposes\n",
    "#and in each subarray, there are 538 numbers indicating that every single word's weight in this article(synposes)\n",
    "# To sum up, every synposes is indicated by a vector(total 100 vectors) built from 538 words\n",
    "tfidf_matrix.toarray()"
   ]
  },
  {
   "cell_type": "markdown",
   "metadata": {},
   "source": [
    "# (Optional) Calculate Document Similarity"
   ]
  },
  {
   "cell_type": "code",
   "execution_count": 22,
   "metadata": {
    "scrolled": true
   },
   "outputs": [
    {
     "name": "stdout",
     "output_type": "stream",
     "text": [
      "[[1.         0.1996283  0.23342595 ... 0.3581728  0.3277855  0.17714484]\n",
      " [0.1996283  1.         0.26626879 ... 0.26910321 0.22856581 0.10870124]\n",
      " [0.23342595 0.26626879 1.         ... 0.27738654 0.24669308 0.12805055]\n",
      " ...\n",
      " [0.3581728  0.26910321 0.27738654 ... 1.         0.55040973 0.08151334]\n",
      " [0.3277855  0.22856581 0.24669308 ... 0.55040973 1.         0.13005234]\n",
      " [0.17714484 0.10870124 0.12805055 ... 0.08151334 0.13005234 1.        ]]\n"
     ]
    }
   ],
   "source": [
    "#cos value between two vector -> how are they similar with each other\n",
    "#ex. select first vector, if it and another vector's cos >1/2, they are assigned to same class.\n",
    "#Overall, this matrix is a 100*100 matrix, each element indicated how similar are two vector.\n",
    "from sklearn.metrics.pairwise import cosine_similarity\n",
    "cos_matrix = cosine_similarity(tfidf_matrix)\n",
    "print cos_matrix"
   ]
  },
  {
   "cell_type": "code",
   "execution_count": 23,
   "metadata": {},
   "outputs": [
    {
     "data": {
      "text/plain": [
       "100"
      ]
     },
     "execution_count": 23,
     "metadata": {},
     "output_type": "execute_result"
    }
   ],
   "source": [
    "len(cos_matrix[99])"
   ]
  },
  {
   "cell_type": "markdown",
   "metadata": {},
   "source": [
    "# Part 4: K-means clustering"
   ]
  },
  {
   "cell_type": "code",
   "execution_count": 24,
   "metadata": {
    "scrolled": true
   },
   "outputs": [],
   "source": [
    "from sklearn.cluster import KMeans\n",
    "\n",
    "num_clusters = 5\n",
    "km = KMeans(n_clusters=num_clusters)#default params are in document's 4.2\n",
    "km.fit(tfidf_matrix)\n",
    "clusters = km.labels_.tolist()"
   ]
  },
  {
   "cell_type": "markdown",
   "metadata": {},
   "source": [
    "## 4.1. Analyze K-means Result"
   ]
  },
  {
   "cell_type": "code",
   "execution_count": 25,
   "metadata": {},
   "outputs": [],
   "source": [
    "# create DataFrame films from all of the input files.\n",
    "films = { 'title': titles, 'rank': ranks, 'synopsis': synopses, 'cluster': clusters}\n",
    "frame = pd.DataFrame(films, index = [clusters] , columns = ['rank', 'title', 'cluster'])"
   ]
  },
  {
   "cell_type": "code",
   "execution_count": 26,
   "metadata": {},
   "outputs": [
    {
     "data": {
      "text/html": [
       "<div>\n",
       "<style scoped>\n",
       "    .dataframe tbody tr th:only-of-type {\n",
       "        vertical-align: middle;\n",
       "    }\n",
       "\n",
       "    .dataframe tbody tr th {\n",
       "        vertical-align: top;\n",
       "    }\n",
       "\n",
       "    .dataframe thead th {\n",
       "        text-align: right;\n",
       "    }\n",
       "</style>\n",
       "<table border=\"1\" class=\"dataframe\">\n",
       "  <thead>\n",
       "    <tr style=\"text-align: right;\">\n",
       "      <th></th>\n",
       "      <th>rank</th>\n",
       "      <th>title</th>\n",
       "      <th>cluster</th>\n",
       "    </tr>\n",
       "  </thead>\n",
       "  <tbody>\n",
       "    <tr>\n",
       "      <th>1</th>\n",
       "      <td>0</td>\n",
       "      <td>The Godfather</td>\n",
       "      <td>1</td>\n",
       "    </tr>\n",
       "    <tr>\n",
       "      <th>2</th>\n",
       "      <td>1</td>\n",
       "      <td>The Shawshank Redemption</td>\n",
       "      <td>2</td>\n",
       "    </tr>\n",
       "    <tr>\n",
       "      <th>2</th>\n",
       "      <td>2</td>\n",
       "      <td>Schindler's List</td>\n",
       "      <td>2</td>\n",
       "    </tr>\n",
       "    <tr>\n",
       "      <th>3</th>\n",
       "      <td>3</td>\n",
       "      <td>Raging Bull</td>\n",
       "      <td>3</td>\n",
       "    </tr>\n",
       "    <tr>\n",
       "      <th>2</th>\n",
       "      <td>4</td>\n",
       "      <td>Casablanca</td>\n",
       "      <td>2</td>\n",
       "    </tr>\n",
       "    <tr>\n",
       "      <th>2</th>\n",
       "      <td>5</td>\n",
       "      <td>One Flew Over the Cuckoo's Nest</td>\n",
       "      <td>2</td>\n",
       "    </tr>\n",
       "    <tr>\n",
       "      <th>1</th>\n",
       "      <td>6</td>\n",
       "      <td>Gone with the Wind</td>\n",
       "      <td>1</td>\n",
       "    </tr>\n",
       "    <tr>\n",
       "      <th>3</th>\n",
       "      <td>7</td>\n",
       "      <td>Citizen Kane</td>\n",
       "      <td>3</td>\n",
       "    </tr>\n",
       "    <tr>\n",
       "      <th>3</th>\n",
       "      <td>8</td>\n",
       "      <td>The Wizard of Oz</td>\n",
       "      <td>3</td>\n",
       "    </tr>\n",
       "    <tr>\n",
       "      <th>2</th>\n",
       "      <td>9</td>\n",
       "      <td>Titanic</td>\n",
       "      <td>2</td>\n",
       "    </tr>\n",
       "  </tbody>\n",
       "</table>\n",
       "</div>"
      ],
      "text/plain": [
       "   rank                            title  cluster\n",
       "1     0                    The Godfather        1\n",
       "2     1         The Shawshank Redemption        2\n",
       "2     2                 Schindler's List        2\n",
       "3     3                      Raging Bull        3\n",
       "2     4                       Casablanca        2\n",
       "2     5  One Flew Over the Cuckoo's Nest        2\n",
       "1     6               Gone with the Wind        1\n",
       "3     7                     Citizen Kane        3\n",
       "3     8                 The Wizard of Oz        3\n",
       "2     9                          Titanic        2"
      ]
     },
     "execution_count": 26,
     "metadata": {},
     "output_type": "execute_result"
    }
   ],
   "source": [
    "frame.head(10)"
   ]
  },
  {
   "cell_type": "code",
   "execution_count": 27,
   "metadata": {},
   "outputs": [
    {
     "name": "stdout",
     "output_type": "stream",
     "text": [
      "Number of films included in each cluster:\n"
     ]
    },
    {
     "data": {
      "text/html": [
       "<div>\n",
       "<style scoped>\n",
       "    .dataframe tbody tr th:only-of-type {\n",
       "        vertical-align: middle;\n",
       "    }\n",
       "\n",
       "    .dataframe tbody tr th {\n",
       "        vertical-align: top;\n",
       "    }\n",
       "\n",
       "    .dataframe thead th {\n",
       "        text-align: right;\n",
       "    }\n",
       "</style>\n",
       "<table border=\"1\" class=\"dataframe\">\n",
       "  <thead>\n",
       "    <tr style=\"text-align: right;\">\n",
       "      <th></th>\n",
       "      <th>cluster</th>\n",
       "    </tr>\n",
       "  </thead>\n",
       "  <tbody>\n",
       "    <tr>\n",
       "      <th>4</th>\n",
       "      <td>32</td>\n",
       "    </tr>\n",
       "    <tr>\n",
       "      <th>1</th>\n",
       "      <td>23</td>\n",
       "    </tr>\n",
       "    <tr>\n",
       "      <th>2</th>\n",
       "      <td>21</td>\n",
       "    </tr>\n",
       "    <tr>\n",
       "      <th>3</th>\n",
       "      <td>18</td>\n",
       "    </tr>\n",
       "    <tr>\n",
       "      <th>0</th>\n",
       "      <td>6</td>\n",
       "    </tr>\n",
       "  </tbody>\n",
       "</table>\n",
       "</div>"
      ],
      "text/plain": [
       "   cluster\n",
       "4       32\n",
       "1       23\n",
       "2       21\n",
       "3       18\n",
       "0        6"
      ]
     },
     "execution_count": 27,
     "metadata": {},
     "output_type": "execute_result"
    }
   ],
   "source": [
    "print \"Number of films included in each cluster:\"\n",
    "frame['cluster'].value_counts().to_frame()"
   ]
  },
  {
   "cell_type": "code",
   "execution_count": 28,
   "metadata": {},
   "outputs": [
    {
     "name": "stdout",
     "output_type": "stream",
     "text": [
      "Average rank (1 to 100) per cluster:\n"
     ]
    },
    {
     "data": {
      "text/html": [
       "<div>\n",
       "<style scoped>\n",
       "    .dataframe tbody tr th:only-of-type {\n",
       "        vertical-align: middle;\n",
       "    }\n",
       "\n",
       "    .dataframe tbody tr th {\n",
       "        vertical-align: top;\n",
       "    }\n",
       "\n",
       "    .dataframe thead th {\n",
       "        text-align: right;\n",
       "    }\n",
       "</style>\n",
       "<table border=\"1\" class=\"dataframe\">\n",
       "  <thead>\n",
       "    <tr style=\"text-align: right;\">\n",
       "      <th></th>\n",
       "      <th>rank</th>\n",
       "    </tr>\n",
       "    <tr>\n",
       "      <th>cluster</th>\n",
       "      <th></th>\n",
       "    </tr>\n",
       "  </thead>\n",
       "  <tbody>\n",
       "    <tr>\n",
       "      <th>0</th>\n",
       "      <td>52.833333</td>\n",
       "    </tr>\n",
       "    <tr>\n",
       "      <th>1</th>\n",
       "      <td>51.130435</td>\n",
       "    </tr>\n",
       "    <tr>\n",
       "      <th>2</th>\n",
       "      <td>35.047619</td>\n",
       "    </tr>\n",
       "    <tr>\n",
       "      <th>3</th>\n",
       "      <td>41.444444</td>\n",
       "    </tr>\n",
       "    <tr>\n",
       "      <th>4</th>\n",
       "      <td>61.718750</td>\n",
       "    </tr>\n",
       "  </tbody>\n",
       "</table>\n",
       "</div>"
      ],
      "text/plain": [
       "              rank\n",
       "cluster           \n",
       "0        52.833333\n",
       "1        51.130435\n",
       "2        35.047619\n",
       "3        41.444444\n",
       "4        61.718750"
      ]
     },
     "execution_count": 28,
     "metadata": {},
     "output_type": "execute_result"
    }
   ],
   "source": [
    "grouped = frame['rank'].groupby(frame['cluster'])\n",
    "print \"Average rank (1 to 100) per cluster:\"\n",
    "grouped.mean().to_frame()"
   ]
  },
  {
   "cell_type": "code",
   "execution_count": 29,
   "metadata": {},
   "outputs": [
    {
     "data": {
      "text/plain": [
       "array([[131, 232, 389, ..., 192, 302, 213],\n",
       "       [206, 354, 249, ..., 511, 194, 192],\n",
       "       [343, 121,  68, ..., 106,  35, 452],\n",
       "       [ 81, 108, 250, ..., 327, 210, 194],\n",
       "       [431, 372, 373, ..., 271,  83, 359]])"
      ]
     },
     "execution_count": 29,
     "metadata": {},
     "output_type": "execute_result"
    }
   ],
   "source": [
    "km.cluster_centers_.argsort()"
   ]
  },
  {
   "cell_type": "code",
   "execution_count": 31,
   "metadata": {
    "scrolled": false
   },
   "outputs": [
    {
     "name": "stdout",
     "output_type": "stream",
     "text": [
      "<Document clustering result by K-means>\n",
      "Cluster 0 words: george, marries, family, woman, friend, john,\n",
      "Cluster 0 titles (6 movies): \n",
      "It's a Wonderful Life, The Philadelphia Story, An American in Paris, The King's Speech, A Place in the Sun, Tootsie\n",
      "\n",
      "Cluster 1 words: family, father, war, son, marries, love,\n",
      "Cluster 1 titles (23 movies): \n",
      "The Godfather, Gone with the Wind, The Godfather: Part II, Forrest Gump, The Sound of Music, Amadeus, Gladiator, A Streetcar Named Desire, The Best Years of Our Lives, Ben-Hur, Doctor Zhivago, Braveheart, The Pianist, Goodfellas, City Lights, It Happened One Night, Out of Africa, Terms of Endearment, Giant, The Grapes of Wrath, Wuthering Heights, Rebel Without a Cause, Yankee Doodle Dandy\n",
      "\n",
      "Cluster 2 words: soldiers, army, commanded, orders, war, killing,\n",
      "Cluster 2 titles (21 movies): \n",
      "The Shawshank Redemption, Schindler's List, Casablanca, One Flew Over the Cuckoo's Nest, Titanic, Lawrence of Arabia, Star Wars, The Bridge on the River Kwai, Dr. Strangelove or: How I Learned to Stop Worrying and Love the Bomb, Apocalypse Now, The Lord of the Rings: The Return of the King, From Here to Eternity, Saving Private Ryan, Raiders of the Lost Ark, Patton, Platoon, Dances with Wolves, The Deer Hunter, All Quiet on the Western Front, Stagecoach, Mutiny on the Bounty\n",
      "\n",
      "Cluster 3 words: father, friend, new, brother, n't, fight,\n",
      "Cluster 3 titles (18 movies): \n",
      "Raging Bull, Citizen Kane, The Wizard of Oz, On the Waterfront, 2001: A Space Odyssey, Some Like It Hot, 12 Angry Men, Rocky, To Kill a Mockingbird, My Fair Lady, Jaws, The Good, the Bad and the Ugly, The Exorcist, Midnight Cowboy, Mr. Smith Goes to Washington, Rain Man, Annie Hall, Good Will Hunting\n",
      "\n",
      "Cluster 4 words: police, car, killing, apartment, mr., arrive,\n",
      "Cluster 4 titles (32 movies): \n",
      "Psycho, Sunset Blvd., Vertigo, West Side Story, E.T. the Extra-Terrestrial, The Silence of the Lambs, Chinatown, Singin' in the Rain, Gandhi, Unforgiven, Butch Cassidy and the Sundance Kid, The Treasure of the Sierra Madre, The Apartment, High Noon, The French Connection, Fargo, Shane, The Green Mile, Close Encounters of the Third Kind, Network, Nashville, The Graduate, American Graffiti, Pulp Fiction, The African Queen, The Maltese Falcon, A Clockwork Orange, Taxi Driver, Double Indemnity, Rear Window, The Third Man, North by Northwest\n",
      "\n"
     ]
    }
   ],
   "source": [
    "#important!!! for each group/class of movies, pick up the key words in their symposes, then we can know which \n",
    "#kind of movie they are\n",
    "\n",
    "#km.cluster_centers_ means pick up the center point in each clusters, it is a 5*538 matrix\n",
    "#argsort():  means sort value in a increasing order, but the ouput value for each item is their index\n",
    "#[:,::-1] means: 1st param is the whole array, 2nd param is decreasing order\n",
    "\n",
    "print \"<Document clustering result by K-means>\"\n",
    "\n",
    "#km.cluster_centers_ denotes the importances of each stems in centroid.\n",
    "#We need to sort it in decreasing-order and get the top k items.\n",
    "order_centroids = km.cluster_centers_.argsort()[:, ::-1] \n",
    "\n",
    "Cluster_keywords_summary = {}\n",
    "for i in range(num_clusters):\n",
    "    print \"Cluster \" + str(i) + \" words:\" ,\n",
    "    Cluster_keywords_summary[i] = []\n",
    "    \n",
    "#order_centroids[i, :6]: for each cluster, pick up the 6 most important stems's index\n",
    "#vocab_frame_dict[tf_selected_words[ind]] : find the coresponding stem according to index, and find stem's complete\n",
    "#word in dictionary\n",
    "\n",
    "    for ind in order_centroids[i, :6]: #replace 6 with n words per cluster\n",
    "        Cluster_keywords_summary[i].append(vocab_frame_dict[tf_selected_words[ind]])\n",
    "        print vocab_frame_dict[tf_selected_words[ind]] + \",\",\n",
    "    print\n",
    "    #Here ix means index, which is the clusterID of each item. Pick up the row=i, column='title' movie in frame and \n",
    "    #then build up a list\n",
    "    #Without tolist, the values result from dataframe is <type 'numpy.ndarray'>\n",
    "    cluster_movies = frame.ix[i]['title'].values.tolist()\n",
    "    print \"Cluster \" + str(i) + \" titles (\" + str(len(cluster_movies)) + \" movies): \" \n",
    "    print \", \".join(cluster_movies)\n",
    "    print"
   ]
  },
  {
   "cell_type": "code",
   "execution_count": 33,
   "metadata": {},
   "outputs": [
    {
     "data": {
      "text/plain": [
       "array([[213, 302, 192, ..., 389, 232, 131],\n",
       "       [192, 194, 511, ..., 249, 354, 206],\n",
       "       [452,  35, 106, ...,  68, 121, 343],\n",
       "       [194, 210, 327, ..., 250, 108,  81],\n",
       "       [359,  83, 271, ..., 373, 372, 431]])"
      ]
     },
     "execution_count": 33,
     "metadata": {},
     "output_type": "execute_result"
    }
   ],
   "source": [
    "order_centroids"
   ]
  },
  {
   "cell_type": "markdown",
   "metadata": {},
   "source": [
    "## 4.2. Plot K-means Result"
   ]
  },
  {
   "cell_type": "code",
   "execution_count": 34,
   "metadata": {},
   "outputs": [
    {
     "data": {
      "text/plain": [
       "array([[0.01548417, 0.        , 0.        , ..., 0.08116415, 0.05900743,\n",
       "        0.0406339 ],\n",
       "       [0.05836682, 0.        , 0.0244088 , ..., 0.05948916, 0.        ,\n",
       "        0.00957297],\n",
       "       [0.        , 0.        , 0.01960667, ..., 0.        , 0.        ,\n",
       "        0.        ],\n",
       "       ...,\n",
       "       [0.01356779, 0.        , 0.        , ..., 0.        , 0.        ,\n",
       "        0.01780244],\n",
       "       [0.01434229, 0.0296827 , 0.03598737, ..., 0.00835319, 0.02732796,\n",
       "        0.01881867],\n",
       "       [0.20623577, 0.        , 0.        , ..., 0.06005757, 0.        ,\n",
       "        0.06765104]])"
      ]
     },
     "execution_count": 34,
     "metadata": {},
     "output_type": "execute_result"
    }
   ],
   "source": [
    "tfidf_matrix.toarray()"
   ]
  },
  {
   "cell_type": "code",
   "execution_count": 37,
   "metadata": {},
   "outputs": [],
   "source": [
    "#for the purpose of drawing, using pca to reduce 538 features to 2 features\n",
    "\n",
    "pca = decomposition.PCA(n_components=2)\n",
    "tfidf_matrix_np=tfidf_matrix.toarray()\n",
    "pca.fit(tfidf_matrix_np)\n",
    "X = pca.transform(tfidf_matrix_np)\n",
    "\n",
    "#now X is a new 100*2 matrix, 100 movies with only two features\n",
    "#X[:, 0] 1st param means for the total rows, 2nd param means for these rows pick up the first element\n",
    "xs, ys = X[:, 0], X[:, 1]\n",
    "\n",
    "#set up colors per clusters using a dict\n",
    "cluster_colors = {0: '#1b9e77', 1: '#d95f02', 2: '#7570b3', 3: '#e7298a', 4: '#66a61e'}\n",
    "#set up cluster names using a dict\n",
    "cluster_names = {}\n",
    "for i in range(num_clusters):\n",
    "    cluster_names[i] = \", \".join(Cluster_keywords_summary[i])"
   ]
  },
  {
   "cell_type": "code",
   "execution_count": 38,
   "metadata": {},
   "outputs": [
    {
     "data": {
      "text/plain": [
       "array([-0.01626843,  0.02988208,  0.27364784, -0.07972765,  0.10396401,\n",
       "        0.03821519,  0.06221408, -0.15643847, -0.00240211, -0.03064285,\n",
       "        0.37671207, -0.10572531, -0.23324864, -0.21538112, -0.19663029,\n",
       "       -0.06520501, -0.05978386,  0.05558293, -0.09796881,  0.22442077,\n",
       "       -0.0961553 ,  0.02839821, -0.03027819, -0.04583647,  0.37412891,\n",
       "       -0.17864517, -0.12779829, -0.15088857, -0.09007835,  0.4660598 ,\n",
       "       -0.12340045,  0.41256987, -0.06447761,  0.26749208,  0.32382401,\n",
       "        0.23365626,  0.42699459,  0.09302201,  0.28295758, -0.14830871,\n",
       "       -0.10460035, -0.1200011 , -0.07760177, -0.17959741, -0.00466456,\n",
       "       -0.1164564 ,  0.01905854,  0.09193232,  0.47550293,  0.12775433,\n",
       "        0.19031061, -0.02816287,  0.13344325,  0.19559428, -0.18215326,\n",
       "        0.50845196,  0.03846582,  0.37893974,  0.13467435, -0.08278944,\n",
       "       -0.17085756,  0.18160239,  0.37462079, -0.17344876, -0.08131232,\n",
       "       -0.06791766, -0.26988275, -0.13404752, -0.22473664,  0.00308042,\n",
       "       -0.16198819, -0.21795811, -0.11273248, -0.15665162, -0.19345619,\n",
       "       -0.23246514, -0.2413552 , -0.00731254,  0.08765591,  0.12609271,\n",
       "       -0.0168    ,  0.02344192,  0.03560748, -0.18246753, -0.2416384 ,\n",
       "       -0.20434571, -0.06147843,  0.09461738,  0.19087145,  0.27895139,\n",
       "       -0.04738007, -0.13136424, -0.09519893, -0.1942724 , -0.11531924,\n",
       "       -0.24208746, -0.21392976, -0.11446815, -0.17159847, -0.074624  ])"
      ]
     },
     "execution_count": 38,
     "metadata": {},
     "output_type": "execute_result"
    }
   ],
   "source": [
    "xs"
   ]
  },
  {
   "cell_type": "code",
   "execution_count": 39,
   "metadata": {
    "scrolled": false
   },
   "outputs": [
    {
     "data": {
      "image/png": "[encoded data removed]",
      "text/plain": [
       "<Figure size 1152x648 with 1 Axes>"
      ]
     },
     "metadata": {},
     "output_type": "display_data"
    }
   ],
   "source": [
    "%matplotlib inline \n",
    "\n",
    "#create data frame with PCA cluster results\n",
    "df = pd.DataFrame(dict(x=xs, y=ys, label=clusters, title=titles)) \n",
    "groups = df.groupby(clusters)\n",
    "\n",
    "# set up plot\n",
    "fig, ax = plt.subplots(figsize=(16, 9))\n",
    "#Set color for each cluster/group\n",
    "for name, group in groups:\n",
    "    ax.plot(group.x, group.y, marker='o', linestyle='', ms=12, \n",
    "            label=cluster_names[name], color=cluster_colors[name], \n",
    "            mec='none')\n",
    "\n",
    "ax.legend(numpoints=1,loc=4)  #show legend with only 1 point, position is right bottom.\n",
    "\n",
    "plt.show() #show the plot"
   ]
  },
  {
   "cell_type": "code",
   "execution_count": 40,
   "metadata": {},
   "outputs": [
    {
     "data": {
      "text/plain": [
       "<matplotlib.axes._subplots.AxesSubplot at 0x1a256a36d0>"
      ]
     },
     "execution_count": 40,
     "metadata": {},
     "output_type": "execute_result"
    }
   ],
   "source": [
    "ax"
   ]
  },
  {
   "cell_type": "code",
   "execution_count": 41,
   "metadata": {},
   "outputs": [],
   "source": [
    "plt.close()"
   ]
  },
  {
   "cell_type": "markdown",
   "metadata": {},
   "source": [
    "# Part 5: Topic Modeling - Latent Dirichlet Allocation"
   ]
  },
  {
   "cell_type": "code",
   "execution_count": 42,
   "metadata": {},
   "outputs": [],
   "source": [
    "#Now we use synopses to build a 100*538 matrix (terms)\n",
    "#Build up a 100*538 matrix, each element means each stem's appearance times in each synopses\n",
    "\n",
    "#terms_dict: used to find the index of each 538 words\n",
    "terms_dict = {tf_selected_words[x]:x for x in range(len(tf_selected_words))}\n",
    "\n",
    "feature_matrix_synopses_tf = []\n",
    "for i in synopses:\n",
    "    current_doc_stats = [0] * len(tf_selected_words)\n",
    "    allwords_stemmed = tokenization_and_stemming(i)\n",
    "    for get_terms in allwords_stemmed:\n",
    "        if get_terms in tf_selected_words:\n",
    "            current_doc_stats[terms_dict[get_terms]] += 1\n",
    "    current_doc_stats = np.asarray(current_doc_stats)\n",
    "    feature_matrix_synopses_tf.append(current_doc_stats)\n",
    "    \n",
    "feature_matrix_synopses_tf = np.asarray(feature_matrix_synopses_tf)"
   ]
  },
  {
   "cell_type": "code",
   "execution_count": 43,
   "metadata": {},
   "outputs": [
    {
     "data": {
      "text/plain": [
       "array([[1, 0, 0, ..., 9, 4, 4],\n",
       "       [4, 0, 2, ..., 7, 0, 1],\n",
       "       [0, 0, 1, ..., 0, 0, 0],\n",
       "       ...,\n",
       "       [1, 0, 0, ..., 0, 0, 2],\n",
       "       [1, 2, 3, ..., 1, 2, 2],\n",
       "       [4, 0, 0, ..., 2, 0, 2]])"
      ]
     },
     "execution_count": 43,
     "metadata": {},
     "output_type": "execute_result"
    }
   ],
   "source": [
    "feature_matrix_synopses_tf"
   ]
  },
  {
   "cell_type": "code",
   "execution_count": 44,
   "metadata": {},
   "outputs": [
    {
     "data": {
      "text/plain": [
       "1"
      ]
     },
     "execution_count": 44,
     "metadata": {},
     "output_type": "execute_result"
    }
   ],
   "source": [
    "a = [[1.0],[2.0]]\n",
    "int (a[0][0])"
   ]
  },
  {
   "cell_type": "code",
   "execution_count": 45,
   "metadata": {},
   "outputs": [],
   "source": [
    "tfidf_array=tfidf_matrix.toarray()\n",
    "for i in range(len(tfidf_array)):\n",
    "    for j in range(len(tfidf_array[i])):\n",
    "        tfidf_array[i][j] = tfidf_array[i][j]*1000\n",
    "        tfidf_array[i][j] = int(tfidf_array[i][j])\n",
    "        \n",
    "#use this to change matrix into an int array\n",
    "tfidf_array = tfidf_array.astype(int)"
   ]
  },
  {
   "cell_type": "code",
   "execution_count": 46,
   "metadata": {},
   "outputs": [
    {
     "name": "stdout",
     "output_type": "stream",
     "text": [
      "[[ 15   0   0 ...  81  59  40]\n",
      " [ 58   0  24 ...  59   0   9]\n",
      " [  0   0  19 ...   0   0   0]\n",
      " ...\n",
      " [ 13   0   0 ...   0   0  17]\n",
      " [ 14  29  35 ...   8  27  18]\n",
      " [206   0   0 ...  60   0  67]]\n"
     ]
    }
   ],
   "source": [
    "print tfidf_array"
   ]
  },
  {
   "cell_type": "code",
   "execution_count": 47,
   "metadata": {},
   "outputs": [],
   "source": [
    "model = lda.LDA(n_topics=5, n_iter=500, random_state=1)"
   ]
  },
  {
   "cell_type": "code",
   "execution_count": 48,
   "metadata": {},
   "outputs": [],
   "source": [
    "a = np.array([1,2,3,4,5])[np.array([0,3])]"
   ]
  },
  {
   "cell_type": "code",
   "execution_count": 49,
   "metadata": {},
   "outputs": [
    {
     "data": {
      "text/plain": [
       "array([1, 4])"
      ]
     },
     "execution_count": 49,
     "metadata": {},
     "output_type": "execute_result"
    }
   ],
   "source": [
    "a"
   ]
  },
  {
   "cell_type": "markdown",
   "metadata": {},
   "source": [
    "<li> \"model.topic_word_\" saves the importance of tf_selected_words in LDA model, i.e. words similarity matrix\n",
    "<li> The shape of \"model.topic_word_\" is (n_topics,num_of_selected_words)\n",
    "<li> \"model.doc_topic_\" saves the document topic results, i.e. document topic matrix.\n",
    "<li> The shape of \"model.doc_topic_\" is (num_of_documents, n_topics)"
   ]
  },
  {
   "cell_type": "code",
   "execution_count": 53,
   "metadata": {},
   "outputs": [
    {
     "name": "stderr",
     "output_type": "stream",
     "text": [
      "INFO:lda:n_documents: 100\n",
      "INFO:lda:vocab_size: 538\n",
      "INFO:lda:n_words: 968593\n",
      "INFO:lda:n_topics: 5\n",
      "INFO:lda:n_iter: 500\n",
      "INFO:lda:<0> log likelihood: -7551008\n",
      "INFO:lda:<10> log likelihood: -6806900\n",
      "INFO:lda:<20> log likelihood: -6493375\n",
      "INFO:lda:<30> log likelihood: -6441773\n",
      "INFO:lda:<40> log likelihood: -6419736\n",
      "INFO:lda:<50> log likelihood: -6411471\n",
      "INFO:lda:<60> log likelihood: -6405168\n",
      "INFO:lda:<70> log likelihood: -6400461\n",
      "INFO:lda:<80> log likelihood: -6398900\n",
      "INFO:lda:<90> log likelihood: -6396208\n",
      "INFO:lda:<100> log likelihood: -6391927\n",
      "INFO:lda:<110> log likelihood: -6391196\n",
      "INFO:lda:<120> log likelihood: -6389115\n",
      "INFO:lda:<130> log likelihood: -6388653\n",
      "INFO:lda:<140> log likelihood: -6388522\n",
      "INFO:lda:<150> log likelihood: -6387772\n",
      "INFO:lda:<160> log likelihood: -6388565\n",
      "INFO:lda:<170> log likelihood: -6389609\n",
      "INFO:lda:<180> log likelihood: -6388279\n",
      "INFO:lda:<190> log likelihood: -6387139\n",
      "INFO:lda:<200> log likelihood: -6384448\n",
      "INFO:lda:<210> log likelihood: -6385932\n",
      "INFO:lda:<220> log likelihood: -6386574\n",
      "INFO:lda:<230> log likelihood: -6385131\n",
      "INFO:lda:<240> log likelihood: -6381686\n",
      "INFO:lda:<250> log likelihood: -6385298\n",
      "INFO:lda:<260> log likelihood: -6382255\n",
      "INFO:lda:<270> log likelihood: -6382668\n",
      "INFO:lda:<280> log likelihood: -6379207\n",
      "INFO:lda:<290> log likelihood: -6381206\n",
      "INFO:lda:<300> log likelihood: -6379768\n",
      "INFO:lda:<310> log likelihood: -6377950\n",
      "INFO:lda:<320> log likelihood: -6377584\n",
      "INFO:lda:<330> log likelihood: -6376459\n",
      "INFO:lda:<340> log likelihood: -6374764\n",
      "INFO:lda:<350> log likelihood: -6371547\n",
      "INFO:lda:<360> log likelihood: -6375296\n",
      "INFO:lda:<370> log likelihood: -6372094\n",
      "INFO:lda:<380> log likelihood: -6370584\n",
      "INFO:lda:<390> log likelihood: -6372159\n",
      "INFO:lda:<400> log likelihood: -6372418\n",
      "INFO:lda:<410> log likelihood: -6371229\n",
      "INFO:lda:<420> log likelihood: -6368607\n",
      "INFO:lda:<430> log likelihood: -6368669\n",
      "INFO:lda:<440> log likelihood: -6366543\n",
      "INFO:lda:<450> log likelihood: -6366132\n",
      "INFO:lda:<460> log likelihood: -6364667\n",
      "INFO:lda:<470> log likelihood: -6366160\n",
      "INFO:lda:<480> log likelihood: -6364954\n",
      "INFO:lda:<490> log likelihood: -6362550\n",
      "INFO:lda:<499> log likelihood: -6362904\n"
     ]
    }
   ],
   "source": [
    "#the lda model only accept int data but not float data\n",
    "#Considering topic_word_ and doc_topic_, read details in LaiData Documentation 5.2 in Unsupervisedlearning II\n",
    "#Remember: documentation->topic->words , each process pick up the n highest element \n",
    "\n",
    "model.fit(tfidf_array)\n",
    "topic_word = model.topic_word_  # model.components_ also works, topic_word is a topic*stem matix, \n",
    "# the number is the point estimate of the topic-word distributions (Phi in literature)\n",
    "n_top_words = 7\n",
    "\n",
    "topic_keywords_list = []\n",
    "for i, topic_dist in enumerate(topic_word):#enumerate(): used to generate a combination of element and its index \n",
    "    #Here we select top(n_top_words-1)\n",
    "    lda_topic_words = np.array(tf_selected_words)[np.argsort(topic_dist)][:-n_top_words:-1] #see details implementation in \n",
    "    #last In[]\n",
    "    #[:-n_top_words:-1]: means pick up 6 most important stems\n",
    "    for j in range(len(lda_topic_words)):\n",
    "        lda_topic_words[j] = vocab_frame_dict[lda_topic_words[j]]\n",
    "    topic_keywords_list.append(lda_topic_words.tolist())#Remember!!! np.array.tolist() "
   ]
  },
  {
   "cell_type": "code",
   "execution_count": 55,
   "metadata": {},
   "outputs": [
    {
     "data": {
      "text/plain": [
       "array([[9.23151952e-04, 1.13378994e-03, 6.19523490e-08, ...,\n",
       "        1.86482766e-03, 7.06318731e-04, 2.16219893e-03],\n",
       "       [5.16389212e-08, 2.98478129e-03, 8.77913300e-04, ...,\n",
       "        5.16389212e-08, 5.16389212e-08, 1.92101951e-03],\n",
       "       [1.94906244e-03, 5.63296565e-08, 1.45336147e-03, ...,\n",
       "        7.92000603e-03, 5.98226585e-03, 4.35433877e-03],\n",
       "       [2.03145906e-03, 4.12889792e-08, 2.46086445e-03, ...,\n",
       "        4.00920117e-03, 4.12889792e-08, 2.57647359e-03],\n",
       "       [5.15912336e-08, 2.65700012e-03, 9.18375549e-04, ...,\n",
       "        1.03187626e-03, 9.20908678e-03, 2.06370093e-03]])"
      ]
     },
     "execution_count": 55,
     "metadata": {},
     "output_type": "execute_result"
    }
   ],
   "source": [
    "topic_word"
   ]
  },
  {
   "cell_type": "code",
   "execution_count": 56,
   "metadata": {},
   "outputs": [],
   "source": [
    "# np.argsort(topic_dist)"
   ]
  },
  {
   "cell_type": "code",
   "execution_count": 57,
   "metadata": {},
   "outputs": [],
   "source": [
    "# list(enumerate(topic_word))"
   ]
  },
  {
   "cell_type": "code",
   "execution_count": 58,
   "metadata": {
    "scrolled": false
   },
   "outputs": [
    {
     "name": "stdout",
     "output_type": "stream",
     "text": [
      "<Document clustering result by LDA>\n",
      "Cluster 0 words: water, ship, captain, escape, prison, mother\n",
      "Cluster 0 titles (13 movies): \n",
      "The Shawshank Redemption, The Wizard of Oz, Titanic, The Sound of Music, Star Wars, The Silence of the Lambs, Chinatown, The Lord of the Rings: The Return of the King, Raiders of the Lost Ark, Ben-Hur, Close Encounters of the Third Kind, Stagecoach, Mutiny on the Bounty\n",
      "\n",
      "Cluster 1 words: army, killing, soldiers, war, men, general\n",
      "Cluster 1 titles (23 movies): \n",
      "Schindler's List, Casablanca, Lawrence of Arabia, The Bridge on the River Kwai, Dr. Strangelove or: How I Learned to Stop Worrying and Love the Bomb, Apocalypse Now, Gladiator, From Here to Eternity, Saving Private Ryan, Unforgiven, Patton, Braveheart, Butch Cassidy and the Sundance Kid, The Treasure of the Sierra Madre, Platoon, High Noon, Dances with Wolves, The Pianist, The Deer Hunter, All Quiet on the Western Front, The Grapes of Wrath, Shane, Network\n",
      "\n",
      "Cluster 2 words: love, family, singing, marries, relationship, filmed\n",
      "Cluster 2 titles (18 movies): \n",
      "Gone with the Wind, Citizen Kane, Forrest Gump, Singin' in the Rain, Amadeus, Gandhi, A Streetcar Named Desire, An American in Paris, The Best Years of Our Lives, Doctor Zhivago, The Good, the Bad and the Ugly, Mr. Smith Goes to Washington, Annie Hall, Out of Africa, Good Will Hunting, Terms of Endearment, Giant, Yankee Doodle Dandy\n",
      "\n",
      "Cluster 3 words: n't, say, mr., comes, fight, window\n",
      "Cluster 3 titles (24 movies): \n",
      "Raging Bull, One Flew Over the Cuckoo's Nest, Vertigo, On the Waterfront, E.T. the Extra-Terrestrial, 2001: A Space Odyssey, Some Like It Hot, 12 Angry Men, Rocky, To Kill a Mockingbird, My Fair Lady, Jaws, The Exorcist, City Lights, Tootsie, The Green Mile, Nashville, The Graduate, American Graffiti, The African Queen, A Clockwork Orange, Wuthering Heights, Rear Window, The Third Man\n",
      "\n",
      "Cluster 4 words: car, george, police, apartment, father, brother\n",
      "Cluster 4 titles (22 movies): \n",
      "The Godfather, The Godfather: Part II, Psycho, Sunset Blvd., West Side Story, It's a Wonderful Life, The Philadelphia Story, The Apartment, Goodfellas, The French Connection, The King's Speech, It Happened One Night, A Place in the Sun, Midnight Cowboy, Rain Man, Fargo, Pulp Fiction, The Maltese Falcon, Taxi Driver, Double Indemnity, Rebel Without a Cause, North by Northwest\n",
      "\n"
     ]
    }
   ],
   "source": [
    "#doc_topic is the doc*topic matrix\n",
    "doc_topic = model.doc_topic_\n",
    "topic_doc_dict = {}\n",
    "\n",
    "print \"<Document clustering result by LDA>\"\n",
    "for i in range(len(doc_topic)):\n",
    "    topicID = doc_topic[i].argmax()#argmax() is the index of max value\n",
    "    if topicID not in topic_doc_dict:\n",
    "        topic_doc_dict[topicID] = [titles[i]]\n",
    "    else:\n",
    "        topic_doc_dict[topicID].append(titles[i])\n",
    "for i in topic_doc_dict:\n",
    "    print \"Cluster \" + str(i) + \" words: \" + \", \".join(topic_keywords_list[i])\n",
    "    print \"Cluster \" + str(i) + \" titles (\" + str(len(topic_doc_dict[i])) + \" movies): \" \n",
    "    print ', '.join(topic_doc_dict[i])\n",
    "    print"
   ]
  },
  {
   "cell_type": "code",
   "execution_count": 59,
   "metadata": {},
   "outputs": [
    {
     "data": {
      "text/plain": [
       "array([[1.95305433e-02, 2.19311527e-01, 1.72080179e-01, 1.22753892e-01,\n",
       "        4.66323858e-01],\n",
       "       [4.29297258e-01, 1.03268446e-05, 7.88041514e-02, 3.64444674e-01,\n",
       "        1.27443590e-01],\n",
       "       [1.99884075e-01, 5.06119886e-01, 1.19219437e-01, 1.11008066e-01,\n",
       "        6.37685360e-02],\n",
       "       [1.11055583e-05, 1.13287801e-01, 1.01515909e-01, 4.41457049e-01,\n",
       "        3.43728136e-01],\n",
       "       [1.41304019e-01, 2.94599365e-01, 1.96066764e-01, 1.27285563e-01,\n",
       "        2.40744289e-01],\n",
       "       [2.31527001e-01, 1.72402124e-01, 5.73483104e-02, 5.38713164e-01,\n",
       "        9.39982140e-06],\n",
       "       [1.32860932e-01, 2.65278535e-01, 3.68334605e-01, 1.95581235e-01,\n",
       "        3.79446928e-02],\n",
       "       [6.53907788e-02, 9.15708988e-06, 5.04839522e-01, 2.86900783e-01,\n",
       "        1.42859759e-01],\n",
       "       [5.61874257e-01, 1.03321796e-05, 1.37015033e-01, 3.01090045e-01,\n",
       "        1.03321796e-05],\n",
       "       [9.99950406e-01, 1.23984874e-05, 1.23984874e-05, 1.23984874e-05,\n",
       "        1.23984874e-05],\n",
       "       [3.00822574e-01, 6.50008171e-01, 1.08950264e-05, 1.08950264e-05,\n",
       "        4.91474642e-02],\n",
       "       [1.68118505e-02, 1.58045545e-01, 1.09139951e-01, 2.29502543e-01,\n",
       "        4.86500111e-01],\n",
       "       [2.32531860e-01, 8.24844311e-06, 3.86934466e-02, 2.66432961e-01,\n",
       "        4.62333485e-01],\n",
       "       [9.85561524e-06, 5.92421032e-02, 2.93411521e-01, 9.85561524e-06,\n",
       "        6.47326664e-01],\n",
       "       [2.43577962e-01, 8.58848284e-06, 6.94035299e-02, 4.20844248e-01,\n",
       "        2.66165672e-01],\n",
       "       [7.25266676e-02, 1.11257611e-01, 9.15625143e-06, 4.60660166e-01,\n",
       "        3.55546399e-01],\n",
       "       [9.92900760e-06, 2.96986546e-01, 4.08787172e-01, 9.92900760e-06,\n",
       "        2.94206424e-01],\n",
       "       [4.71010558e-01, 2.01106083e-05, 4.42855706e-01, 2.01106083e-05,\n",
       "        8.60935143e-02],\n",
       "       [4.52585976e-02, 3.22083757e-02, 2.21436594e-01, 3.13216024e-01,\n",
       "        3.87880409e-01],\n",
       "       [5.86403249e-01, 1.96751380e-01, 9.12533650e-06, 2.16827121e-01,\n",
       "        9.12533650e-06],\n",
       "       [3.84124011e-01, 9.36636538e-06, 9.36636538e-06, 5.05231115e-01,\n",
       "        1.10626142e-01],\n",
       "       [4.29235271e-01, 9.60824562e-05, 7.26820107e-02, 4.97977901e-01,\n",
       "        8.73476875e-06],\n",
       "       [5.90650515e-01, 1.06729281e-05, 1.06729281e-05, 2.03863600e-01,\n",
       "        2.05464539e-01],\n",
       "       [4.78090283e-01, 1.08383461e-05, 3.89205007e-02, 1.79819000e-01,\n",
       "        3.03159378e-01],\n",
       "       [2.05574243e-01, 7.45058465e-01, 1.07854130e-03, 3.87740937e-02,\n",
       "        9.51465642e-03],\n",
       "       [1.29157249e-05, 1.29157249e-05, 9.99948337e-01, 1.29157249e-05,\n",
       "        1.29157249e-05],\n",
       "       [8.87680122e-02, 2.40671820e-02, 1.15488119e-01, 1.48315679e-01,\n",
       "        6.23361008e-01],\n",
       "       [1.28921909e-01, 1.71449565e-04, 1.94807527e-01, 4.42592971e-01,\n",
       "        2.33506144e-01],\n",
       "       [1.00984377e-02, 1.07742789e-04, 9.79479896e-06, 9.20720897e-01,\n",
       "        6.90631275e-02],\n",
       "       [4.12040966e-02, 8.05307531e-01, 8.38567306e-03, 6.33848243e-02,\n",
       "        8.17178747e-02],\n",
       "       [1.25039075e-05, 1.37542982e-04, 9.99824945e-01, 1.25039075e-05,\n",
       "        1.25039075e-05],\n",
       "       [2.24179343e-04, 9.99743795e-01, 1.06752068e-05, 1.06752068e-05,\n",
       "        1.06752068e-05],\n",
       "       [1.00740442e-05, 1.43262983e-01, 6.14828993e-01, 1.57467385e-01,\n",
       "        8.44305647e-02],\n",
       "       [3.95044047e-01, 3.65782288e-01, 4.15331513e-02, 1.97424141e-01,\n",
       "        2.16372160e-04],\n",
       "       [6.82924186e-02, 6.84777543e-01, 2.07012410e-03, 2.44849076e-01,\n",
       "        1.08383461e-05],\n",
       "       [5.60895857e-02, 5.26951848e-01, 1.01061590e-01, 1.55708847e-01,\n",
       "        1.60188130e-01],\n",
       "       [1.55977954e-01, 6.59818600e-01, 9.54736796e-05, 1.20999870e-01,\n",
       "        6.31081022e-02],\n",
       "       [1.07031209e-03, 4.75292746e-01, 1.05971494e-05, 4.40322153e-01,\n",
       "        8.33041912e-02],\n",
       "       [6.14196685e-01, 2.17467403e-01, 8.83977901e-06, 1.68318232e-01,\n",
       "        8.83977901e-06],\n",
       "       [9.06084356e-06, 2.21175191e-02, 3.98767725e-02, 7.94282608e-01,\n",
       "        1.43714040e-01],\n",
       "       [1.35189344e-01, 1.04465918e-05, 8.64779316e-01, 1.04465918e-05,\n",
       "        1.04465918e-05],\n",
       "       [4.85322896e-04, 1.56555773e-05, 1.56555773e-05, 1.56555773e-05,\n",
       "        9.99467710e-01],\n",
       "       [9.63901875e-06, 9.94843125e-02, 9.86168008e-02, 8.01879609e-01,\n",
       "        9.63901875e-06],\n",
       "       [1.16979587e-05, 1.28677546e-04, 6.39773060e-01, 1.16979587e-05,\n",
       "        3.60074867e-01],\n",
       "       [1.52560749e-01, 1.94978363e-01, 4.08207713e-01, 5.81102287e-03,\n",
       "        2.38442151e-01],\n",
       "       [9.86923267e-06, 9.86923267e-06, 3.03390081e-01, 6.96580311e-01,\n",
       "        9.86923267e-06],\n",
       "       [6.15220491e-01, 1.72567720e-01, 1.39039379e-01, 9.83235829e-06,\n",
       "        7.31625780e-02],\n",
       "       [2.47691848e-01, 3.15420421e-01, 3.60345048e-01, 2.64764914e-04,\n",
       "        7.62779178e-02],\n",
       "       [2.98444402e-02, 7.95864541e-01, 1.10633122e-01, 1.28032776e-05,\n",
       "        6.36450931e-02],\n",
       "       [3.82536590e-01, 1.64583805e-01, 2.71058951e-02, 4.25764647e-01,\n",
       "        9.06248584e-06],\n",
       "       [2.20221222e-02, 6.52670780e-01, 2.49135679e-01, 7.61603024e-02,\n",
       "        1.11166694e-05],\n",
       "       [2.98977459e-01, 1.50059319e-01, 3.98067906e-01, 1.12987967e-05,\n",
       "        1.52884018e-01],\n",
       "       [1.25187032e-01, 6.06532688e-01, 2.05368931e-04, 9.39905139e-02,\n",
       "        1.74084397e-01],\n",
       "       [3.12333885e-01, 6.62016331e-01, 1.06740674e-05, 1.06740674e-05,\n",
       "        2.56284357e-02],\n",
       "       [1.09247829e-05, 2.36084558e-02, 1.64319659e-01, 2.58163544e-01,\n",
       "        5.53897416e-01],\n",
       "       [1.47747314e-01, 6.67383029e-01, 9.63716089e-06, 1.84850383e-01,\n",
       "        9.63716089e-06],\n",
       "       [1.35528902e-05, 9.99539202e-01, 4.20139595e-04, 1.35528902e-05,\n",
       "        1.35528902e-05],\n",
       "       [1.51633226e-01, 6.50759701e-01, 1.97585897e-01, 1.05881730e-05,\n",
       "        1.05881730e-05],\n",
       "       [1.35694037e-01, 4.31086340e-01, 6.83322923e-02, 2.01796954e-04,\n",
       "        3.64685533e-01],\n",
       "       [6.77603225e-02, 2.62857408e-01, 2.24394087e-01, 9.26827008e-06,\n",
       "        4.44978915e-01],\n",
       "       [2.14952572e-01, 9.34535769e-06, 1.60282230e-01, 5.61478436e-01,\n",
       "        6.32774169e-02],\n",
       "       [1.66996530e-01, 3.46836311e-01, 2.02381870e-01, 2.07779634e-01,\n",
       "        7.60056548e-02],\n",
       "       [1.09679188e-05, 6.71466959e-01, 1.09679188e-05, 3.28500137e-01,\n",
       "        1.09679188e-05],\n",
       "       [3.32468846e-01, 9.19667081e-06, 1.15050352e-02, 1.70515473e-01,\n",
       "        4.85501448e-01],\n",
       "       [1.28675288e-05, 1.41542817e-04, 1.28675288e-05, 9.99819855e-01,\n",
       "        1.28675288e-05],\n",
       "       [1.18434299e-05, 1.08852964e-01, 3.81251851e-01, 1.18434299e-05,\n",
       "        5.09871499e-01],\n",
       "       [7.34206924e-02, 1.30386596e-05, 1.30386596e-05, 1.30386596e-05,\n",
       "        9.26540192e-01],\n",
       "       [1.48827333e-02, 5.98397838e-04, 1.94981179e-01, 1.33790175e-01,\n",
       "        6.55747515e-01],\n",
       "       [1.09632730e-04, 9.96661185e-06, 5.46269996e-02, 9.96661185e-06,\n",
       "        9.45243434e-01],\n",
       "       [2.52085709e-04, 9.50843287e-02, 4.70211872e-01, 4.34439710e-01,\n",
       "        1.20040814e-05],\n",
       "       [1.02492362e-01, 1.94136249e-02, 2.26735274e-01, 1.07198371e-05,\n",
       "        6.51348020e-01],\n",
       "       [1.15121165e-05, 1.15121165e-05, 6.58849940e-01, 3.41115524e-01,\n",
       "        1.15121165e-05],\n",
       "       [2.27478387e-01, 6.78262670e-02, 7.04674639e-01, 1.03535746e-05,\n",
       "        1.03535746e-05],\n",
       "       [7.04233437e-02, 9.56708921e-06, 4.73389141e-01, 3.73221717e-01,\n",
       "        8.29562306e-02],\n",
       "       [1.12834979e-05, 1.12834979e-05, 9.99954866e-01, 1.12834979e-05,\n",
       "        1.12834979e-05],\n",
       "       [8.69300648e-06, 4.66032077e-02, 2.98178815e-01, 3.70156909e-01,\n",
       "        2.85052375e-01],\n",
       "       [4.57510154e-02, 7.88674632e-06, 7.88674632e-06, 4.74790015e-01,\n",
       "        4.79443196e-01],\n",
       "       [2.93984422e-02, 1.78324035e-01, 6.77136386e-01, 1.15130089e-01,\n",
       "        1.10478926e-05],\n",
       "       [1.58871238e-01, 4.76720960e-01, 7.11978015e-02, 2.93196595e-01,\n",
       "        1.34057242e-05],\n",
       "       [1.23785356e-05, 9.99950486e-01, 1.23785356e-05, 1.23785356e-05,\n",
       "        1.23785356e-05],\n",
       "       [3.98483193e-04, 2.90262870e-01, 1.28542965e-05, 7.09312938e-01,\n",
       "        1.28542965e-05],\n",
       "       [5.69167915e-01, 7.41840301e-02, 3.96840528e-02, 2.79277316e-01,\n",
       "        3.76866857e-02],\n",
       "       [1.32740426e-05, 5.67611336e-01, 4.32348842e-01, 1.32740426e-05,\n",
       "        1.32740426e-05],\n",
       "       [2.27334235e-04, 1.08254398e-05, 4.77845737e-01, 4.78820027e-01,\n",
       "        4.30960758e-02],\n",
       "       [1.61583113e-01, 9.59462701e-06, 2.44000959e-01, 3.73240585e-01,\n",
       "        2.21165747e-01],\n",
       "       [4.82713131e-02, 2.30858022e-04, 2.49656461e-02, 5.80783818e-01,\n",
       "        3.45748365e-01],\n",
       "       [1.36059913e-01, 1.74587061e-01, 8.32119825e-06, 3.22787601e-01,\n",
       "        3.66557104e-01],\n",
       "       [3.36785188e-01, 2.20885903e-01, 7.88792397e-02, 3.63438746e-01,\n",
       "        1.09235895e-05],\n",
       "       [5.77152766e-01, 2.51243700e-01, 1.08383461e-05, 1.19221807e-04,\n",
       "        1.71473473e-01],\n",
       "       [9.99939582e-01, 1.51045994e-05, 1.51045994e-05, 1.51045994e-05,\n",
       "        1.51045994e-05],\n",
       "       [1.62196419e-01, 9.25197761e-06, 9.25197761e-06, 3.32340288e-01,\n",
       "        5.05444789e-01],\n",
       "       [1.73557755e-01, 2.03287838e-02, 1.31783892e-01, 4.99812497e-01,\n",
       "        1.74517071e-01],\n",
       "       [1.16339085e-01, 7.10177544e-04, 1.00025006e-05, 3.40395099e-01,\n",
       "        5.42545636e-01],\n",
       "       [1.16979587e-05, 1.16979587e-05, 4.50149149e-01, 5.49815757e-01,\n",
       "        1.16979587e-05],\n",
       "       [1.27934702e-01, 9.89364333e-06, 9.89364333e-06, 2.34983923e-01,\n",
       "        6.37061588e-01],\n",
       "       [1.31397411e-05, 1.31397411e-05, 1.13014914e-01, 2.08015242e-01,\n",
       "        6.78943565e-01],\n",
       "       [1.01858925e-05, 2.19098549e-02, 1.01858925e-05, 5.95477464e-01,\n",
       "        3.82592310e-01],\n",
       "       [1.05357747e-01, 6.71579501e-02, 6.09091251e-04, 5.43001090e-01,\n",
       "        2.83874121e-01],\n",
       "       [2.49550034e-01, 2.27385178e-02, 7.17077193e-06, 3.53239396e-01,\n",
       "        3.74464881e-01],\n",
       "       [1.69563374e-05, 1.69563374e-05, 9.99932175e-01, 1.69563374e-05,\n",
       "        1.69563374e-05]])"
      ]
     },
     "execution_count": 59,
     "metadata": {},
     "output_type": "execute_result"
    }
   ],
   "source": [
    "doc_topic"
   ]
  },
  {
   "cell_type": "code",
   "execution_count": 53,
   "metadata": {},
   "outputs": [
    {
     "data": {
      "text/plain": [
       "array([0.01953054, 0.21931153, 0.17208018, 0.12275389, 0.46632386])"
      ]
     },
     "execution_count": 53,
     "metadata": {},
     "output_type": "execute_result"
    }
   ],
   "source": [
    "doc_topic[0]"
   ]
  },
  {
   "cell_type": "markdown",
   "metadata": {
    "collapsed": true
   },
   "source": [
    "# Appendix: K-means"
   ]
  },
  {
   "cell_type": "code",
   "execution_count": null,
   "metadata": {},
   "outputs": [],
   "source": []
  },
  {
   "cell_type": "code",
   "execution_count": 54,
   "metadata": {},
   "outputs": [
    {
     "data": {
      "image/png": "[encoded data removed]",
      "text/plain": [
       "<Figure size 432x288 with 1 Axes>"
      ]
     },
     "metadata": {},
     "output_type": "display_data"
    }
   ],
   "source": [
    "from sklearn.datasets.samples_generator import make_blobs\n",
    "X, y = make_blobs(n_samples=300, centers=4,\n",
    "                  random_state=0, cluster_std=0.60)\n",
    "plt.scatter(X[:, 0], X[:, 1], s=50);"
   ]
  },
  {
   "cell_type": "code",
   "execution_count": 55,
   "metadata": {},
   "outputs": [
    {
     "data": {
      "image/png": "[encoded data removed]",
      "text/plain": [
       "<Figure size 432x288 with 1 Axes>"
      ]
     },
     "metadata": {},
     "output_type": "display_data"
    }
   ],
   "source": [
    "from sklearn.cluster import KMeans\n",
    "est = KMeans(4)  # 4 clusters\n",
    "est.fit(X)\n",
    "y_kmeans = est.predict(X)\n",
    "plt.scatter(X[:, 0], X[:, 1], c=y_kmeans, s=50);"
   ]
  },
  {
   "cell_type": "code",
   "execution_count": null,
   "metadata": {},
   "outputs": [],
   "source": []
  }
 ],
 "metadata": {
  "kernelspec": {
   "display_name": "Python 2",
   "language": "python",
   "name": "python2"
  },
  "language_info": {
   "codemirror_mode": {
    "name": "ipython",
    "version": 2
   },
   "file_extension": ".py",
   "mimetype": "text/x-python",
   "name": "python",
   "nbconvert_exporter": "python",
   "pygments_lexer": "ipython2",
   "version": "2.7.15"
  }
 },
 "nbformat": 4,
 "nbformat_minor": 1
}
