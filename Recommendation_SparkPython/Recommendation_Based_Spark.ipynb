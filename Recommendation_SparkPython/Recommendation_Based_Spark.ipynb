{
 "cells": [
  {
   "cell_type": "markdown",
   "metadata": {},
   "source": [
    "# Movie Recommendation System Based on Spark \n"
   ]
  },
  {
   "cell_type": "code",
   "execution_count": 1,
   "metadata": {},
   "outputs": [],
   "source": [
    "from csv import reader\n",
    "\n",
    "movies = sc.textFile('ml-latest-small/movies.csv')\n",
    "ratings = sc.textFile(\"ml-latest-small/ratings.csv\")\n",
    "links = sc.textFile(\"ml-latest-small/links.csv\")\n",
    "tags = sc.textFile(\"ml-latest-small/tags.csv\")\n"
   ]
  },
  {
   "cell_type": "markdown",
   "metadata": {},
   "source": [
    "## Q1. How many users\n"
   ]
  },
  {
   "cell_type": "code",
   "execution_count": 2,
   "metadata": {},
   "outputs": [],
   "source": [
    "def clean(rdd):\n",
    "    rdd = rdd.map(lambda line: line.split(','))\n",
    "    header = rdd.first()\n",
    "    rdd = rdd.filter(lambda x: x!=header)\n",
    "    return rdd\n",
    "\n",
    "ratings = clean(ratings)\n",
    "user = ratings.map(lambda x: (x[0],1))\n",
    "from operator import add\n",
    "sorted(user.reduceByKey(add).collect(), key = lambda x: int(x[0]))\n",
    "\n",
    "from pyspark.sql import Row\n",
    "\n",
    "ratings.collect()\n",
    "ratings_dict = ratings.map(lambda item: Row(user_id=item[0],movie_id=item[1],rating=item[2], timestamp = item[3]))\n",
    "ratings_df = spark.createDataFrame(ratings_dict)\n",
    "ratings_df.createOrReplaceTempView(\"ratings_sql\")\n"
   ]
  },
  {
   "cell_type": "markdown",
   "metadata": {},
   "source": [
    "#### So there are 671 users in total"
   ]
  },
  {
   "cell_type": "markdown",
   "metadata": {},
   "source": [
    "## Q2. How many movies"
   ]
  },
  {
   "cell_type": "code",
   "execution_count": 3,
   "metadata": {},
   "outputs": [
    {
     "data": {
      "text/plain": [
       "9125"
      ]
     },
     "execution_count": 3,
     "metadata": {},
     "output_type": "execute_result"
    }
   ],
   "source": [
    "movies = clean(movies)\n",
    "movies.count()"
   ]
  },
  {
   "cell_type": "markdown",
   "metadata": {},
   "source": [
    "#### So there are 9125 movies"
   ]
  },
  {
   "cell_type": "code",
   "execution_count": 4,
   "metadata": {},
   "outputs": [],
   "source": [
    "from pyspark.sql import Row\n",
    "\n",
    "movies_dict = movies.map(lambda item:Row(movie_id=item[0],name=item[1],genres=item[2]))\n",
    "movies_df = spark.createDataFrame(movies_dict)\n",
    "movies_df.createOrReplaceTempView(\"movies_sql\")"
   ]
  },
  {
   "cell_type": "markdown",
   "metadata": {},
   "source": [
    "# Q3. How many movies are rated by users? List movies that are not read before"
   ]
  },
  {
   "cell_type": "code",
   "execution_count": 5,
   "metadata": {},
   "outputs": [
    {
     "data": {
      "text/plain": [
       "9066"
      ]
     },
     "execution_count": 5,
     "metadata": {},
     "output_type": "execute_result"
    }
   ],
   "source": [
    "ratings.collect()\n",
    "ratings_movies = ratings.map(lambda x: (x[1],1))\n",
    "ratings_movies = ratings_movies.reduceByKey(add)\n",
    "num = ratings_movies.count()\n",
    "num "
   ]
  },
  {
   "cell_type": "markdown",
   "metadata": {},
   "source": [
    "#### So there are 9066 movies rated by users"
   ]
  },
  {
   "cell_type": "code",
   "execution_count": 6,
   "metadata": {},
   "outputs": [
    {
     "name": "stdout",
     "output_type": "stream",
     "text": [
      "+--------------------+--------+\n",
      "|                name|movie_id|\n",
      "+--------------------+--------+\n",
      "|     February (2015)|  144172|\n",
      "|      Kahaani (2012)|   94969|\n",
      "|A Girl Like Her (...|  132547|\n",
      "|Pickup on South S...|    7335|\n",
      "|             \"Rocket|  110871|\n",
      "|Woman in Gold (2015)|  131796|\n",
      "|         \"Story of O|    5984|\n",
      "|Welcome to Me (2014)|  132800|\n",
      "|Stormy Weather (1...|  128235|\n",
      "|After School Spec...|   39421|\n",
      "|    Nightfall (1957)|   82313|\n",
      "|          \"Immigrant|  111251|\n",
      "|      Grandma (2015)|  132549|\n",
      "|Late Spring (Bans...|   42217|\n",
      "|          \"Big Clock|    8767|\n",
      "|Hell or High Wate...|  161582|\n",
      "|The Neon Demon (2...|  155064|\n",
      "|        Belle (2013)|  111249|\n",
      "|Facing the Giants...|   48711|\n",
      "|Monkey Kingdom (2...|  132458|\n",
      "+--------------------+--------+\n",
      "only showing top 20 rows\n",
      "\n"
     ]
    }
   ],
   "source": [
    "not_rated_id = spark.sql(\"(SELECT movies_sql.movie_id AS movie_id FROM movies_sql)\\\n",
    "EXCEPT (SELECT movie_id FROM ratings_sql)\")\n",
    "not_rated_id.createOrReplaceTempView(\"not_rated_id\")\n",
    "not_rated = spark.sql(\"SELECT movies_sql.name AS name, movies_sql.movie_id AS movie_id FROM movies_sql\\\n",
    ", not_rated_id WHERE movies_sql.movie_id = not_rated_id.movie_id\")\n",
    "not_rated.show()"
   ]
  },
  {
   "cell_type": "markdown",
   "metadata": {},
   "source": [
    "# Q4. List movies genres & Q5. Compute num of movies for each category"
   ]
  },
  {
   "cell_type": "code",
   "execution_count": 7,
   "metadata": {},
   "outputs": [
    {
     "data": {
      "text/plain": [
       "[(u'Mystery', 543),\n",
       " (u'Romance', 1545),\n",
       " (u'Horror', 877),\n",
       " (u'Film-Noir', 133),\n",
       " (u'Drama', 4365),\n",
       " (u'Action', 1545),\n",
       " (u'Documentary', 495),\n",
       " (u'Thriller', 1729),\n",
       " (u'IMAX', 153),\n",
       " (u'Sci-Fi', 792),\n",
       " (u'Crime', 1100),\n",
       " (u'Fantasy', 654),\n",
       " (u'Animation', 447),\n",
       " (u'War', 367),\n",
       " (u'Western', 168),\n",
       " (u'Children', 583),\n",
       " (u'(no genres listed)', 18),\n",
       " (u'Comedy', 3315),\n",
       " (u'Musical', 394),\n",
       " (u'Adventure', 1117)]"
      ]
     },
     "execution_count": 7,
     "metadata": {},
     "output_type": "execute_result"
    }
   ],
   "source": [
    "movies_genres = movies.flatMap(lambda x: x[len(x)-1].split('|'))\n",
    "movies_genres = movies_genres.map(lambda x: (x,1))\n",
    "movies_genres = movies_genres.reduceByKey(add)\n",
    "movies_genres.collect()"
   ]
  },
  {
   "cell_type": "markdown",
   "metadata": {},
   "source": [
    "# ALS Algorithm in Spark\n"
   ]
  },
  {
   "cell_type": "code",
   "execution_count": 8,
   "metadata": {},
   "outputs": [],
   "source": [
    "from pyspark.mllib.recommendation import ALS, MatrixFactorizationModel, Rating\n",
    "\n",
    "ratings = ratings.map(lambda l: Rating(int(l[0]), int(l[1]), float(l[2])))\n",
    "ratings.collect()\n",
    "res = []\n",
    "\n",
    "def train(ratings, rank, iteration, lamb):\n",
    "    model = ALS.train(ratings, rank, iteration, lamb)\n",
    "    testdata = ratings.map(lambda p: (p[0], p[1]))\n",
    "    predictions = model.predictAll(testdata).map(lambda r: ((r[0], r[1]), r[2]))\n",
    "    ratesAndPreds = ratings.map(lambda r: ((r[0], r[1]), r[2])).join(predictions)\n",
    "    MSE = ratesAndPreds.map(lambda r: (r[1][0] - r[1][1])**2).mean()\n",
    "    res.append((rank, iteration, lamb, MSE))\n",
    "    print(\"For rank, iteration, lambda are {},{},{}\".format(str(rank), str(iteration), str(lamb))+\", mean squared error = \" + str(MSE))\n",
    "    return (MSE,model)\n",
    "\n"
   ]
  },
  {
   "cell_type": "code",
   "execution_count": 9,
   "metadata": {},
   "outputs": [
    {
     "name": "stdout",
     "output_type": "stream",
     "text": [
      "For rank, iteration, lambda are 5,10,0.01, mean squared error = 0.411765202263\n",
      "For rank, iteration, lambda are 5,10,0.02, mean squared error = 0.418253480644\n",
      "For rank, iteration, lambda are 5,10,0.05, mean squared error = 0.420958917278\n",
      "For rank, iteration, lambda are 5,10,0.1, mean squared error = 0.461356882407\n",
      "For rank, iteration, lambda are 5,10,0.2, mean squared error = 0.5799728772\n",
      "For rank, iteration, lambda are 5,10,0.3, mean squared error = 0.717709695671\n",
      "For rank, iteration, lambda are 8,10,0.01, mean squared error = 0.318216534649\n",
      "For rank, iteration, lambda are 8,10,0.02, mean squared error = 0.320177688635\n",
      "For rank, iteration, lambda are 8,10,0.05, mean squared error = 0.341092522376\n",
      "For rank, iteration, lambda are 8,10,0.1, mean squared error = 0.401001676808\n",
      "For rank, iteration, lambda are 8,10,0.2, mean squared error = 0.564548985147\n",
      "For rank, iteration, lambda are 8,10,0.3, mean squared error = 0.709248814842\n",
      "For rank, iteration, lambda are 10,10,0.01, mean squared error = 0.271927676318\n",
      "For rank, iteration, lambda are 10,10,0.02, mean squared error = 0.276871454339\n",
      "For rank, iteration, lambda are 10,10,0.05, mean squared error = 0.306392978659\n",
      "For rank, iteration, lambda are 10,10,0.1, mean squared error = 0.372213165002\n",
      "For rank, iteration, lambda are 10,10,0.2, mean squared error = 0.559014221019\n",
      "For rank, iteration, lambda are 10,10,0.3, mean squared error = 0.707456072929\n",
      "For rank, iteration, lambda are 15,10,0.01, mean squared error = 0.194240859541\n",
      "For rank, iteration, lambda are 15,10,0.02, mean squared error = 0.199012854183\n",
      "For rank, iteration, lambda are 15,10,0.05, mean squared error = 0.23484641835\n",
      "For rank, iteration, lambda are 15,10,0.1, mean squared error = 0.326522117148\n",
      "For rank, iteration, lambda are 15,10,0.2, mean squared error = 0.553289874641\n",
      "For rank, iteration, lambda are 15,10,0.3, mean squared error = 0.710460378932\n",
      "For rank, iteration, lambda are 5,20,0.01, mean squared error = 0.396267443518\n",
      "For rank, iteration, lambda are 5,20,0.02, mean squared error = 0.401750275364\n",
      "For rank, iteration, lambda are 5,20,0.05, mean squared error = 0.419866249742\n",
      "For rank, iteration, lambda are 5,20,0.1, mean squared error = 0.4571518429\n",
      "For rank, iteration, lambda are 5,20,0.2, mean squared error = 0.573903756746\n",
      "For rank, iteration, lambda are 5,20,0.3, mean squared error = 0.707202241312\n",
      "For rank, iteration, lambda are 8,20,0.01, mean squared error = 0.301560229498\n",
      "For rank, iteration, lambda are 8,20,0.02, mean squared error = 0.308920855497\n",
      "For rank, iteration, lambda are 8,20,0.05, mean squared error = 0.333996338199\n",
      "For rank, iteration, lambda are 8,20,0.1, mean squared error = 0.391640934069\n",
      "For rank, iteration, lambda are 8,20,0.2, mean squared error = 0.556325428625\n",
      "For rank, iteration, lambda are 8,20,0.3, mean squared error = 0.707034720256\n",
      "For rank, iteration, lambda are 10,20,0.01, mean squared error = 0.256414306976\n",
      "For rank, iteration, lambda are 10,20,0.02, mean squared error = 0.264448153481\n",
      "For rank, iteration, lambda are 10,20,0.05, mean squared error = 0.293811922015\n",
      "For rank, iteration, lambda are 10,20,0.1, mean squared error = 0.365397783733\n",
      "For rank, iteration, lambda are 10,20,0.2, mean squared error = 0.550872636752\n",
      "For rank, iteration, lambda are 10,20,0.3, mean squared error = 0.706856345222\n",
      "For rank, iteration, lambda are 15,20,0.01, mean squared error = 0.176254739595\n",
      "For rank, iteration, lambda are 15,20,0.02, mean squared error = 0.184353120277\n",
      "For rank, iteration, lambda are 15,20,0.05, mean squared error = 0.224920311012\n",
      "For rank, iteration, lambda are 15,20,0.1, mean squared error = 0.321313349164\n",
      "For rank, iteration, lambda are 15,20,0.2, mean squared error = 0.544331356511\n",
      "For rank, iteration, lambda are 15,20,0.3, mean squared error = 0.706627186849\n",
      "Best hyperparam set(rank, iteration, lambda) is15,20,0.01.And corresponding MSE is0.176254739595\n",
      "Total Runtime: 262.108389854seconds\n"
     ]
    }
   ],
   "source": [
    "rank_set = [5,8,10,15]\n",
    "iteration_set=[10,20]\n",
    "lamb_set = [0.01,0.02,0.05,0.1,0.2,0.3]\n",
    "best_rank, best_iteration, best_lamb, best_MSE, best_model = 0, 0, 0, float('inf'), None\n",
    "\n",
    "import time\n",
    "start_time = time.time()\n",
    "\n",
    "for i in iteration_set:\n",
    "    for j in rank_set:\n",
    "        for k in lamb_set:\n",
    "            temp = train(ratings, j, i, k)\n",
    "            if temp[0]<best_MSE:\n",
    "                best_MSE,best_rank, best_iteration, best_lamb, best_model = temp[0],j, i, k, temp[1]\n",
    "print'Best hyperparam set(rank, iteration, lambda) is'+str(best_rank)+','+str(best_iteration)+','+str(best_lamb)+'.'+'And corresponding MSE is'+str(best_MSE)\n",
    "print 'Total Runtime: '+str(time.time() - start_time)+'seconds'"
   ]
  },
  {
   "cell_type": "markdown",
   "metadata": {},
   "source": [
    "## For each user, recommend two movies"
   ]
  },
  {
   "cell_type": "code",
   "execution_count": 10,
   "metadata": {},
   "outputs": [
    {
     "name": "stdout",
     "output_type": "stream",
     "text": [
      "+-------+--------------------+--------------------+\n",
      "|user_id|         recommend_1|         recommend_2|\n",
      "+-------+--------------------+--------------------+\n",
      "|      1|              \"Score|    Westworld (1973)|\n",
      "|      2|\"Aguirre: The Wra...|      \"Lawnmower Man|\n",
      "|      3|     \"Bone Collector|             \"Jackal|\n",
      "|      4|       Baraka (1992)| \"Fistful of Dollars|\n",
      "|      5|      Tangled (2010)|Freaky Friday (2003)|\n",
      "|      6|American Sniper (...|        Benji (1974)|\n",
      "|      7|\"Aguirre: The Wra...|              \"Piano|\n",
      "|      8|The Fault in Our ...|\"Adventures of Ba...|\n",
      "|      9|         \"Dolce Vita|Dancer in the Dar...|\n",
      "|     10|    \"Lives of Others|       Hamlet (1996)|\n",
      "|     11|         \"Ninth Gate|      Tangled (2010)|\n",
      "|     12|Fantasia 2000 (1999)|Mad Max: Fury Roa...|\n",
      "|     13|Resident Evil: Ap...|Dirty Rotten Scou...|\n",
      "|     14|\"Emperor's New Gr...|Dancer in the Dar...|\n",
      "|     15|   Dick Tracy (1990)|\"Best Years of Ou...|\n",
      "|     16|Micmacs (Micmacs ...|        Crumb (1994)|\n",
      "|     17|Once Were Warrior...|Dancer in the Dar...|\n",
      "|     18|   Half Baked (1998)|\"Adventures of Ba...|\n",
      "|     19|American Sniper (...| Citizen Kane (1941)|\n",
      "|     20|      Super 8 (2011)|             \"Grudge|\n",
      "+-------+--------------------+--------------------+\n",
      "only showing top 20 rows\n",
      "\n"
     ]
    }
   ],
   "source": [
    "recommend_user = best_model.recommendProductsForUsers(2)\n",
    "recommend_user = recommend_user.map(lambda x: (x[0], x[1][0][1], x[1][1][1]))\n",
    "recommend_user.collect()\n",
    "recommend_user_dict = recommend_user.map(lambda item:Row(user_id=item[0],recommend_movie1=item[1],recommend_movie2=item[2]))\n",
    "recommend_user_df = spark.createDataFrame(recommend_user_dict )\n",
    "recommend_user_df.createOrReplaceTempView(\"recommend_user\")\n",
    "reco1_res= spark.sql(\"(SELECT recommend_user.user_id,movies_sql.name AS recommend_1 \\\n",
    "FROM recommend_user INNER JOIN movies_sql ON recommend_user.recommend_movie1 = movies_sql.movie_id) \\\n",
    "\")\n",
    "reco1_res.createOrReplaceTempView(\"reco1_res\")\n",
    "reco2_res= spark.sql(\"(SELECT recommend_user.user_id,movies_sql.name AS recommend_2 \\\n",
    "FROM recommend_user INNER JOIN movies_sql ON recommend_user.recommend_movie2 = movies_sql.movie_id) \\\n",
    "\")\n",
    "reco2_res.createOrReplaceTempView(\"reco2_res\")\n",
    "reco_res = spark.sql(\"SELECT reco1_res.user_id,reco1_res.recommend_1 AS recommend_1,reco2_res.recommend_2 \\\n",
    "FROM reco1_res INNER JOIN reco2_res ON reco1_res.user_id = reco2_res.user_id ORDER BY reco1_res.user_id \")\n",
    "reco_res.show()"
   ]
  },
  {
   "cell_type": "markdown",
   "metadata": {},
   "source": [
    "# MSE curves\n"
   ]
  },
  {
   "cell_type": "markdown",
   "metadata": {},
   "source": [
    "#### When iteration time is 10"
   ]
  },
  {
   "cell_type": "code",
   "execution_count": 11,
   "metadata": {},
   "outputs": [],
   "source": [
    "import numpy as np\n",
    "import pandas as pd\n",
    "import seaborn as sns\n",
    "import matplotlib.pyplot as plt"
   ]
  },
  {
   "cell_type": "code",
   "execution_count": 12,
   "metadata": {},
   "outputs": [],
   "source": [
    "# res.append((rank, iteration, lamb, MSE))"
   ]
  },
  {
   "cell_type": "code",
   "execution_count": 13,
   "metadata": {},
   "outputs": [
    {
     "data": {
      "image/png": "[encoded data removed]",
      "text/plain": [
       "<matplotlib.figure.Figure at 0x1145d5f90>"
      ]
     },
     "metadata": {},
     "output_type": "display_data"
    }
   ],
   "source": [
    "res = filter(lambda x: x[1]==10, res)\n",
    "def generate(list, start,end):\n",
    "    reg,error  = [],[]\n",
    "    for i in range(start, end+1):\n",
    "        reg.append(list[i][2])\n",
    "        error.append(list[i][3])\n",
    "    return(reg,error)\n",
    "x_5,y_5 = generate(res, 0, 5)[0],generate(res, 0, 5)[1]\n",
    "x_8,y_8 = generate(res, 6, 11)[0],generate(res,6,11)[1]\n",
    "x_10,y_10 = generate(res, 12, 17)[0],generate(res,12,17)[1]\n",
    "x_15,y_15 = generate(res, 18, 23)[0],generate(res,18,23)[1]\n",
    "\n",
    "plt.figure(figsize=(12, 8), dpi=80)\n",
    "ax = plt.subplot(111)\n",
    "ax.plot(x_5,y_5,label='rank = 5',linewidth=5)\n",
    "ax.plot(x_8,y_8,label='rank = 8',linewidth=5)\n",
    "ax.plot(x_10,y_10,label='rank = 10',linewidth=5)\n",
    "ax.plot(x_15,y_15,label='rank = 15',linewidth=5)\n",
    "plt.xlabel('Regularization')\n",
    "plt.ylabel('MSE')\n",
    "plt.title('MSE Curves(Iteration times = 10)')\n",
    "ax.legend(numpoints=1, loc = 2)\n",
    "plt.show()"
   ]
  }
 ],
 "metadata": {
  "kernelspec": {
   "display_name": "Python 3",
   "language": "python",
   "name": "python3"
  },
  "language_info": {
   "codemirror_mode": {
    "name": "ipython",
    "version": 3
   },
   "file_extension": ".py",
   "mimetype": "text/x-python",
   "name": "python",
   "nbconvert_exporter": "python",
   "pygments_lexer": "ipython3",
   "version": "3.6.5"
  }
 },
 "nbformat": 4,
 "nbformat_minor": 2
}
