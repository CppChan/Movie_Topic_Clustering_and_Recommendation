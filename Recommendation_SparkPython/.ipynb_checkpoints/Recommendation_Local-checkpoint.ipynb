{
 "cells": [
  {
   "cell_type": "markdown",
   "metadata": {},
   "source": [
    "# ALS algorithm implementation\n"
   ]
  },
  {
   "cell_type": "code",
   "execution_count": 1,
   "metadata": {},
   "outputs": [],
   "source": [
    "import pandas as pd \n",
    "import numpy as np \n",
    "from numpy.linalg import solve\n",
    "import math\n",
    "import os\n",
    "import time\n",
    "import seaborn as sns\n",
    "import matplotlib.pyplot as plt\n",
    "\n",
    "ratings_ori = pd.read_csv('ml-latest-small/ratings.csv')\n",
    "ratings = np.zeros((671,9066))\n",
    "movie_id = sorted(np.unique((ratings_ori['movieId'])))\n",
    "ratings_ori = np.array(ratings_ori)\n",
    "ratings_ori\n",
    "for item in ratings_ori:\n",
    "    ratings[int(item[0])-1][movie_id.index(int(item[1]))]=item[2]\n",
    "\n",
    "# for i in range(len(ratings)):\n",
    "#     mean = np.mean(filter(lambda x: x!=0,ratings[i]))\n",
    "#     for j in range(len(ratings[0])):\n",
    "#         if ratings[i][j]==0: ratings[i][j] = mean"
   ]
  },
  {
   "cell_type": "code",
   "execution_count": 2,
   "metadata": {},
   "outputs": [
    {
     "name": "stdout",
     "output_type": "stream",
     "text": [
      "[[0. 0. 0. ... 0. 0. 0.]\n",
      " [0. 0. 0. ... 0. 0. 0.]\n",
      " [0. 0. 0. ... 0. 0. 0.]\n",
      " ...\n",
      " [0. 0. 0. ... 0. 0. 0.]\n",
      " [4. 0. 0. ... 0. 0. 0.]\n",
      " [5. 0. 0. ... 0. 0. 0.]]\n"
     ]
    }
   ],
   "source": [
    "print ratings"
   ]
  },
  {
   "cell_type": "code",
   "execution_count": 3,
   "metadata": {},
   "outputs": [],
   "source": [
    "def train_test_split(ratings):\n",
    "    test = np.zeros(ratings.shape)\n",
    "    train = ratings.copy()\n",
    "    for user in xrange(ratings.shape[0]):\n",
    "        test_ratings = np.random.choice(ratings[user, :].nonzero()[0], \n",
    "                                        size=10, \n",
    "                                        replace=False)\n",
    "        train[user, test_ratings] = 0.\n",
    "        test[user, test_ratings] = ratings[user, test_ratings]\n",
    "        \n",
    "    # Test and training are truly disjoint\n",
    "    assert(np.all((train * test) == 0)) \n",
    "    return train, test"
   ]
  },
  {
   "cell_type": "code",
   "execution_count": 4,
   "metadata": {},
   "outputs": [],
   "source": [
    "train, test = train_test_split(ratings)"
   ]
  },
  {
   "cell_type": "code",
   "execution_count": 5,
   "metadata": {},
   "outputs": [
    {
     "data": {
      "text/plain": [
       "9066"
      ]
     },
     "execution_count": 5,
     "metadata": {},
     "output_type": "execute_result"
    }
   ],
   "source": [
    "len(test[0])"
   ]
  },
  {
   "cell_type": "code",
   "execution_count": 6,
   "metadata": {},
   "outputs": [
    {
     "data": {
      "text/plain": [
       "array([  30,  833,  859,  906,  931, 1017, 1041, 1047, 1083, 1087, 1111,\n",
       "       1140, 1515, 1665, 1708, 1743, 1815, 1962, 2380, 2925])"
      ]
     },
     "execution_count": 6,
     "metadata": {},
     "output_type": "execute_result"
    }
   ],
   "source": [
    "ratings[0, :].nonzero()[0]"
   ]
  },
  {
   "cell_type": "code",
   "execution_count": 7,
   "metadata": {},
   "outputs": [
    {
     "data": {
      "text/plain": [
       "array([ 859, 2925, 1708, 1515, 1083, 1041,   30, 1140, 1017, 1815])"
      ]
     },
     "execution_count": 7,
     "metadata": {},
     "output_type": "execute_result"
    }
   ],
   "source": [
    "np.random.choice(ratings[0, :].nonzero()[0], \n",
    "                                        size=10, \n",
    "                                        replace=False)"
   ]
  },
  {
   "cell_type": "code",
   "execution_count": 8,
   "metadata": {},
   "outputs": [],
   "source": [
    "from sklearn.metrics import mean_squared_error\n",
    "\n",
    "class ALS(object):\n",
    "    def __init__(self, ratings, n_factors, item_reg = 0.1, user_reg = 0.1, verbose = False, n_iter=10):\n",
    "        self.ratings = ratings\n",
    "        self.n_users,self.n_items = ratings.shape\n",
    "        self.n_factors = n_factors\n",
    "        self.item_reg = item_reg\n",
    "        self.user_reg = user_reg\n",
    "        self._v = verbose\n",
    "        self.MSE = 0\n",
    "        self.n_iter = n_iter\n",
    "    \n",
    "    def train(self):\n",
    "        self.user_vecs = np.random.random((self.n_users, self.n_factors)) \n",
    "        self.item_vecs = np.random.random((self.n_items, self.n_factors)) \n",
    "        \n",
    "        self.partial_train()\n",
    "    \n",
    "    def partial_train(self):\n",
    "        ctr = 1\n",
    "        while ctr<=self.n_iter:\n",
    "            self.user_vecs = self.als_step(self.user_vecs, self.item_vecs, self.ratings, self.user_reg, type='user')\n",
    "            self.item_vecs = self.als_step(self.item_vecs, self.user_vecs, self.ratings, self.item_reg, type='item')\n",
    "            ctr+=1\n",
    "       \n",
    "    #compute the latent vector in iteration\n",
    "    def als_step(self, latent_vectors, fixed_vecs, ratings, _lambda, type = 'user'):\n",
    "        if type == 'user':\n",
    "            YTY = fixed_vecs.T.dot(fixed_vecs)\n",
    "            lambdaI = np.eye(YTY.shape[0])*_lambda\n",
    "            \n",
    "            for u in xrange(latent_vectors.shape[0]):\n",
    "                latent_vectors[u, :]=solve((YTY+lambdaI), ratings[u,:].dot(fixed_vecs))\n",
    "        elif type == 'item':\n",
    "            XTX = fixed_vecs.T.dot(fixed_vecs)\n",
    "            lambdaI = np.eye(XTX.shape[0])*_lambda\n",
    "            \n",
    "            for i in xrange(latent_vectors.shape[0]):\n",
    "                latent_vectors[i, :]=solve((XTX+lambdaI), ratings[:,i].T.dot(fixed_vecs))\n",
    "        return latent_vectors\n",
    "    \n",
    "    def predict_all(self):\n",
    "        predictions = np.zeros((self.user_vecs.shape[0],self.item_vecs.shape[0]))\n",
    "        for u in xrange(self.user_vecs.shape[0]):\n",
    "            for i in xrange(self.item_vecs.shape[0]):\n",
    "                predictions[u,i]=self.predict(u,i)\n",
    "        self.result = predictions\n",
    "        return predictions\n",
    "    \n",
    "    def predict(self, u, i):\n",
    "        return self.user_vecs[u,:].dot(self.item_vecs[i,:].T)\n",
    "    \n",
    "    def computeMSE(self):\n",
    "        pred = self.result[self.ratings.nonzero()].flatten()\n",
    "        rate = self.ratings[self.ratings.nonzero()].flatten()\n",
    "        self.MSE = mean_squared_error(pred, rate)\n",
    "        self.printdetails()\n",
    "        return self.MSE\n",
    "    \n",
    "    def printdetails(self):\n",
    "        print(\"For rank, iteration, lambda are {},{},{}\".format(str(self.n_factors), str(self.n_iter), str(self.user_reg))+\", mean squared error = \" + str(self.MSE))\n",
    "\n",
    "    def calculate_learning_curve(self, iter_array, test):\n",
    "        iter_array.sort()\n",
    "        self.train_mse =[]\n",
    "        self.test_mse = []\n",
    "        iter_diff = 0\n",
    "        for (i, n_iter) in enumerate(iter_array):\n",
    "            if self._v:\n",
    "                print 'Iteration: {}'.format(n_iter)\n",
    "            if i == 0:\n",
    "                self.train(n_iter - iter_diff)\n",
    "            else:\n",
    "                self.partial_train(n_iter - iter_diff)\n",
    "\n",
    "            predictions = self.predict_all()\n",
    "\n",
    "            self.train_mse += [get_mse(predictions, self.ratings)]\n",
    "            self.test_mse += [get_mse(predictions, test)]\n",
    "            if self._v:\n",
    "                print 'Train mse: ' + str(self.train_mse[-1])\n",
    "                print 'Test mse: ' + str(self.test_mse[-1])\n",
    "            iter_diff = n_iter\n",
    "        \n"
   ]
  },
  {
   "cell_type": "code",
   "execution_count": 9,
   "metadata": {},
   "outputs": [],
   "source": [
    "# als = ALS(ratings)\n",
    "# als.train()\n",
    "# result = als.predict_all()\n",
    "# print als.computeMSE()"
   ]
  },
  {
   "cell_type": "code",
   "execution_count": 10,
   "metadata": {},
   "outputs": [],
   "source": [
    "# als.computeMSE(result)"
   ]
  },
  {
   "cell_type": "code",
   "execution_count": 11,
   "metadata": {},
   "outputs": [
    {
     "name": "stdout",
     "output_type": "stream",
     "text": [
      "For rank, iteration, lambda are 10,10,0.01, mean squared error = 6.895524795839459\n",
      "For rank, iteration, lambda are 20,10,0.01, mean squared error = 5.950103726615721\n",
      "For rank, iteration, lambda are 30,10,0.01, mean squared error = 5.318774812788777\n",
      "For rank, iteration, lambda are 40,10,0.01, mean squared error = 4.8047757409411895\n",
      "For rank, iteration, lambda are 10,20,0.01, mean squared error = 6.8919304806750015\n",
      "For rank, iteration, lambda are 20,20,0.01, mean squared error = 5.947633062571526\n",
      "For rank, iteration, lambda are 30,20,0.01, mean squared error = 5.30882067480303\n",
      "For rank, iteration, lambda are 40,20,0.01, mean squared error = 4.789349542381453\n",
      "For rank, iteration, lambda are 10,10,0.1, mean squared error = 6.975104068430735\n",
      "For rank, iteration, lambda are 20,10,0.1, mean squared error = 6.0341329668413195\n",
      "For rank, iteration, lambda are 30,10,0.1, mean squared error = 5.397480950459414\n",
      "For rank, iteration, lambda are 40,10,0.1, mean squared error = 4.879998690166647\n",
      "For rank, iteration, lambda are 10,20,0.1, mean squared error = 6.932529824715787\n",
      "For rank, iteration, lambda are 20,20,0.1, mean squared error = 5.979988727307634\n",
      "For rank, iteration, lambda are 30,20,0.1, mean squared error = 5.33602270896921\n",
      "For rank, iteration, lambda are 40,20,0.1, mean squared error = 4.828260932240334\n",
      "For rank, iteration, lambda are 10,10,0.3, mean squared error = 7.008712973639426\n",
      "For rank, iteration, lambda are 20,10,0.3, mean squared error = 6.055167314413976\n",
      "For rank, iteration, lambda are 30,10,0.3, mean squared error = 5.413410214949939\n",
      "For rank, iteration, lambda are 40,10,0.3, mean squared error = 4.901048163958133\n",
      "For rank, iteration, lambda are 10,20,0.3, mean squared error = 6.944155973411493\n",
      "For rank, iteration, lambda are 20,20,0.3, mean squared error = 5.989633354235649\n",
      "For rank, iteration, lambda are 30,20,0.3, mean squared error = 5.343867685335739\n",
      "For rank, iteration, lambda are 40,20,0.3, mean squared error = 4.834284381752911\n",
      "Best hyperparam set(rank, iteration, lambda) is40,20,0.01.And corresponding MSE is4.789349542381453\n",
      "Total Runtime: 421.336289883seconds\n"
     ]
    }
   ],
   "source": [
    "rank_set = [10,20,30,40]\n",
    "iteration_set=[10,20]\n",
    "lamb_set = [0.01,0.1,0.3]\n",
    "best_rank, best_iteration, best_lamb, best_MSE, best_model = 0, 0, 0, float('inf'), None\n",
    "res = []\n",
    "\n",
    "import time\n",
    "start_time = time.time()\n",
    "\n",
    "\n",
    "for k in lamb_set:\n",
    "    for i in iteration_set:\n",
    "        for j in rank_set:\n",
    "            als = ALS(ratings, j, k, k,False, i)\n",
    "            als.train()\n",
    "            result = als.predict_all()\n",
    "            MSE = als.computeMSE()\n",
    "            res.append((j, i, k, MSE))\n",
    "            if MSE<best_MSE:\n",
    "                best_MSE,best_rank, best_iteration, best_lamb= MSE,j, i, k\n",
    "print'Best hyperparam set(rank, iteration, lambda) is'+str(best_rank)+','+str(best_iteration)+','+str(best_lamb)+'.'+'And corresponding MSE is'+str(best_MSE)\n",
    "print 'Total Runtime: '+str(time.time() - start_time)+'seconds'"
   ]
  },
  {
   "cell_type": "markdown",
   "metadata": {},
   "source": [
    "#### We can see that regulation is not the main influence factor of the MSE, while the number of rank(latent factor) makes a difference"
   ]
  },
  {
   "cell_type": "code",
   "execution_count": 12,
   "metadata": {},
   "outputs": [
    {
     "data": {
      "image/png": "[encoded data removed]",
      "text/plain": [
       "<Figure size 720x480 with 1 Axes>"
      ]
     },
     "metadata": {},
     "output_type": "display_data"
    }
   ],
   "source": [
    "import seaborn as sns\n",
    "import matplotlib.pyplot as plt\n",
    "res = filter(lambda x: x[1]==10, res)\n",
    "\n",
    "def generate(list, start,end):\n",
    "    rank,error  = [],[]\n",
    "    for i in range(start, end+1):\n",
    "        rank.append(list[i][0])\n",
    "        error.append(list[i][3])\n",
    "    return(rank,error)\n",
    "x_10,y_10 = generate(res, 0, 3)[0],generate(res,0,3)[1]\n",
    "\n",
    "plt.figure(figsize=(9, 6), dpi=80)\n",
    "ax = plt.subplot(111)\n",
    "ax.plot(x_10,y_10,linewidth=5)\n",
    "# ax.plot(x_15,y_15,label='rank = 15',linewidth=5)\n",
    "# ax.plot(x_20,y_20,label='rank = 20',linewidth=5)\n",
    "plt.xlabel('Num of Latent Factors')\n",
    "plt.ylabel('MSE')\n",
    "plt.title('MSE Curves(Iteration times = 10, Regulation = 0.01)')\n",
    "plt.show()"
   ]
  },
  {
   "cell_type": "markdown",
   "metadata": {},
   "source": [
    "##  ROC Curves\n"
   ]
  },
  {
   "cell_type": "markdown",
   "metadata": {},
   "source": [
    "### Define rating>=3 as like, and rating<3 as unlike, then the recommendation system becomes a classification problem\n",
    "#### AUC under the ROC Curves is the probability that a random-chosen positive example is ranked higher than a random-chosen negative example"
   ]
  },
  {
   "cell_type": "code",
   "execution_count": 13,
   "metadata": {},
   "outputs": [],
   "source": [
    "#select the most best model\n",
    "y_test, y_score = [],[]\n",
    "als = ALS(ratings, 40,0.01,0.01,False,20) \n",
    "als.train()\n",
    "best_result = als.predict_all()"
   ]
  },
  {
   "cell_type": "code",
   "execution_count": 14,
   "metadata": {},
   "outputs": [],
   "source": [
    "for i in range(len(ratings)):\n",
    "    for j in range(len(ratings[0])):\n",
    "        if ratings[i][j]>0:\n",
    "            if ratings[i][j]>=2.5:\n",
    "                y_test.append(1)\n",
    "            else:y_test.append(0)\n",
    "            if best_result[i][j]>=2.5:\n",
    "                y_score.append(1)\n",
    "            else:y_score.append(0)\n",
    "y_test = np.array(y_test)\n",
    "y_score = np.array(y_score)"
   ]
  },
  {
   "cell_type": "code",
   "execution_count": 15,
   "metadata": {},
   "outputs": [],
   "source": [
    "from sklearn.metrics import roc_curve, auc\n",
    "\n",
    "fpr, tpr, thresholds = roc_curve(y_test, y_score)"
   ]
  },
  {
   "cell_type": "code",
   "execution_count": 16,
   "metadata": {},
   "outputs": [],
   "source": [
    "roc_auc = auc(fpr, tpr) "
   ]
  },
  {
   "cell_type": "code",
   "execution_count": 17,
   "metadata": {},
   "outputs": [
    {
     "data": {
      "image/png": "[encoded data removed]",
      "text/plain": [
       "<Figure size 432x288 with 1 Axes>"
      ]
     },
     "metadata": {},
     "output_type": "display_data"
    }
   ],
   "source": [
    "plt.figure()\n",
    "lw = 2\n",
    "plt.plot(fpr, tpr, color='darkorange',\n",
    "         lw=lw, label='ROC curve (area = %0.2f)' % roc_auc)\n",
    "plt.plot([0, 1], [0, 1], color='navy', lw=lw, linestyle='--')\n",
    "plt.xlim([0.0, 1.0])\n",
    "plt.ylim([0.0, 1.05])\n",
    "plt.xlabel('False Positive Rate')\n",
    "plt.ylabel('True Positive Rate')\n",
    "plt.title('ROC Curve')\n",
    "plt.legend(loc=\"lower right\")\n",
    "plt.show()"
   ]
  }
 ],
 "metadata": {
  "kernelspec": {
   "display_name": "Python 2",
   "language": "python",
   "name": "python2"
  },
  "language_info": {
   "codemirror_mode": {
    "name": "ipython",
    "version": 2
   },
   "file_extension": ".py",
   "mimetype": "text/x-python",
   "name": "python",
   "nbconvert_exporter": "python",
   "pygments_lexer": "ipython2",
   "version": "2.7.15"
  }
 },
 "nbformat": 4,
 "nbformat_minor": 2
}
