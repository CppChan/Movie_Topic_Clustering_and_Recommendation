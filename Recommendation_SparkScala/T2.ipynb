{
 "cells": [
  {
   "cell_type": "code",
   "execution_count": 1,
   "metadata": {},
   "outputs": [
    {
     "data": {
      "text/plain": [
       "conf = org.apache.spark.SparkConf@1198be13\n",
       "sc = org.apache.spark.SparkContext@1e3d63e9\n",
       "spark = org.apache.spark.sql.SparkSession@18c1bf55\n",
       "train_raw = MapPartitionsRDD[4] at filter at <console>:38\n",
       "test_raw = MapPartitionsRDD[5] at filter at <console>:40\n",
       "train_header = user_id,business_id,stars\n",
       "train_raw = MapPartitionsRDD[4] at filter at <console>:38\n",
       "test_header = user_id,business_id,stars\n",
       "test_raw = MapPartitionsRDD[5] at filter at <console>:40\n",
       "n = 4...\n"
      ]
     },
     "metadata": {},
     "output_type": "display_data"
    },
    {
     "data": {
      "text/plain": [
       "45236"
      ]
     },
     "execution_count": 1,
     "metadata": {},
     "output_type": "execute_result"
    }
   ],
   "source": [
    "import org.apache.spark.{SparkConf, SparkContext}\n",
    "import org.apache.spark.sql.SparkSession\n",
    "\n",
    "val conf = new SparkConf().setAppName(\"response_count\").setMaster(\"local[2]\")\n",
    "    val sc = new SparkContext(conf)\n",
    "    val spark = SparkSession.builder.getOrCreate\n",
    "\n",
    "    //convert raw rating\n",
    "    var train_raw = sc.textFile(\"./Data/train_review.csv\")\n",
    "    var test_raw = sc.textFile(\"./Data/test_review.csv\")\n",
    "    val train_header = train_raw.first()\n",
    "    train_raw = train_raw.filter(row => row != train_header)\n",
    "    val test_header = test_raw.first()\n",
    "    test_raw = test_raw.filter(row => row != test_header)\n",
    "    val n = test_raw.count()\n",
    "\n",
    "    var train_rating = train_raw.map(_.split(','))\n",
    "    var test_rating = test_raw.map(_.split(','))\n",
    "    var all_rating = train_rating.union(test_rating)\n",
    "    var user = all_rating.map(x => (x(0), 1)).reduceByKey((a, b) => a + b)\n",
    "    val user_encode = user.map(x => x._1).zipWithUniqueId().collect().toMap\n",
    "    var train_rating_1 = train_rating.map(x => (user_encode(x(0)).toInt, x(1), x(2)))\n",
    "    var test_rating_1 = test_rating.map(x => (user_encode(x(0)).toInt, x(1), x(2)))\n",
    "\n",
    "    var product = all_rating.map(x => (x(1), 1)).reduceByKey((a, b) => a + b)\n",
    "    val product_encode = product.map(x => x._1).zipWithUniqueId().collect().toMap\n",
    "    var train_rating_2 = train_rating_1.map(x => (x._1, product_encode(x._2).toInt, x._3.toDouble))\n",
    "    var test_rating_2 = test_rating_1.map(x => (x._1, product_encode(x._2).toInt, x._3.toDouble))\n",
    "    var all_rating_encode = train_rating_2++test_rating_2"
   ]
  },
  {
   "cell_type": "code",
   "execution_count": 2,
   "metadata": {},
   "outputs": [
    {
     "data": {
      "text/plain": [
       "Waiting for a Spark session to start..."
      ]
     },
     "metadata": {},
     "output_type": "display_data"
    },
    {
     "data": {
      "text/plain": [
       "user_key = MapPartitionsRDD[22] at map at <console>:41\n",
       "user_join = MapPartitionsRDD[27] at map at <console>:43\n",
       "item_pair = MapPartitionsRDD[28] at map at <console>:45\n",
       "item_pair_count = 433\n"
      ]
     },
     "metadata": {},
     "output_type": "display_data"
    },
    {
     "data": {
      "text/plain": [
       "433"
      ]
     },
     "execution_count": 2,
     "metadata": {},
     "output_type": "execute_result"
    }
   ],
   "source": [
    "    var user_key = train_rating_2.map(x=>(x._1,x))// (user, (user, item, rate))\n",
    "//    var user_join = user_key.join(user_key).map(x=>(x._1,((x._2._1._2,x._2._1._3),(x._2._2._2,x._2._2._3))))\n",
    "    var user_join = user_key.join(user_key).filter(x=>x._2._1._2<=x._2._2._2).map(x=>(x._1,((x._2._1._2,x._2._1._3),(x._2._2._2,x._2._2._3))))\n",
    "    // (user, ((i1,r1),(i2,r2)))\n",
    "    var item_pair = user_join.map(x=>((x._2._1._1,x._2._2._1), (x._1, x._2._1._2,x._2._2._2))) //  ((i1,i2),(u,r1,r2))\n",
    "    var item_pair_count = item_pair.groupByKey().map(x=>(x._1, x._2.size)).filter(x=>x._2>100).count"
   ]
  },
  {
   "cell_type": "code",
   "execution_count": null,
   "metadata": {},
   "outputs": [],
   "source": [
    "print(item_pair_count)"
   ]
  }
 ],
 "metadata": {
  "kernelspec": {
   "display_name": "spark2.3.1 - Scala",
   "language": "scala",
   "name": "spark2.3.1_scala"
  },
  "language_info": {
   "codemirror_mode": "text/x-scala",
   "file_extension": ".scala",
   "mimetype": "text/x-scala",
   "name": "scala",
   "pygments_lexer": "scala",
   "version": "2.11.8"
  }
 },
 "nbformat": 4,
 "nbformat_minor": 2
}
