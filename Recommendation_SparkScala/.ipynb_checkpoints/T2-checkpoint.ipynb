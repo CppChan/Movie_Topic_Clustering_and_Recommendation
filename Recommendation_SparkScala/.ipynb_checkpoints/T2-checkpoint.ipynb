{
 "cells": [
  {
   "cell_type": "code",
   "execution_count": 1,
   "metadata": {},
   "outputs": [
    {
     "data": {
      "text/plain": [
       "conf = org.apache.spark.SparkConf@26bf951f\n",
       "sc = org.apache.spark.SparkContext@565b31df\n",
       "spark = org.apache.spark.sql.SparkSession@708b2d75\n",
       "train_raw = MapPartitionsRDD[4] at filter at <console>:44\n",
       "test_raw = MapPartitionsRDD[5] at filter at <console>:46\n",
       "train_header = user_...\n"
      ]
     },
     "metadata": {},
     "output_type": "display_data"
    },
    {
     "data": {
      "text/plain": [
       "user_id,business_id,stars"
      ]
     },
     "execution_count": 1,
     "metadata": {},
     "output_type": "execute_result"
    }
   ],
   "source": [
    "import org.apache.spark.SparkContext\n",
    "import org.apache.spark.SparkConf\n",
    "import org.apache.spark.rdd.RDD\n",
    "import org.apache.spark.sql.SparkSession\n",
    "import org.apache.spark.SparkContext._\n",
    "import org.apache.spark.mllib.recommendation.ALS\n",
    "import org.apache.spark.mllib.recommendation.MatrixFactorizationModel\n",
    "import org.apache.spark.mllib.recommendation.Rating      \n",
    "    \n",
    "val conf = new SparkConf().setAppName(\"response_count\").setMaster(\"local[2]\")\n",
    "    val sc = new SparkContext(conf)\n",
    "    val spark = SparkSession.builder.getOrCreate\n",
    "\n",
    "    //convert raw rating\n",
    "    var train_raw = sc.textFile(\"./Data/train_review.csv\")\n",
    "    var test_raw = sc.textFile(\"./Data/test_review.csv\")\n",
    "    val train_header = train_raw.first()\n",
    "    train_raw = train_raw.filter(row => row != train_header)\n",
    "    val test_header = test_raw.first()\n",
    "    test_raw = test_raw.filter(row => row != test_header)\n",
    "    val n = test_raw.count()\n",
    "\n",
    "    var train_rating = train_raw.map(_.split(','))\n",
    "    var test_rating = test_raw.map(_.split(','))\n",
    "    var all_rating = train_rating.union(test_rating)\n",
    "    var user = all_rating.map(x=>(x(0),1)).reduceByKey((a, b) => a + b)\n",
    "    val user_encode = user.map(x=>x._1).zipWithUniqueId().collect().toMap\n",
    "    var train_rating_1 = train_rating.map(x=>(user_encode(x(0)).toInt,x(1),x(2)))\n",
    "    var test_rating_1 = test_rating.map(x=>(user_encode(x(0)).toInt,x(1),x(2)))\n",
    "\n",
    "    var product = all_rating.map(x=>(x(1),1)).reduceByKey((a, b) => a + b)\n",
    "    val product_encode = product.map(x=>x._1).zipWithUniqueId().collect().toMap\n",
    "    var train_rating_2 = train_rating_1.map(x=>(x._1,product_encode(x._2).toInt,x._3.toDouble))\n",
    "    var test_rating_2 = test_rating_1.map(x=>(x._1,product_encode(x._2).toInt,x._3.toDouble))"
   ]
  },
  {
   "cell_type": "code",
   "execution_count": 9,
   "metadata": {},
   "outputs": [
    {
     "data": {
      "text/plain": [
       "rate_count = ShuffledRDD[48] at reduceByKey at <console>:49\n",
       "rate_sum = ShuffledRDD[50] at reduceByKey at <console>:50\n"
      ]
     },
     "metadata": {},
     "output_type": "display_data"
    },
    {
     "data": {
      "text/plain": [
       "ShuffledRDD[50] at reduceByKey at <console>:50"
      ]
     },
     "execution_count": 9,
     "metadata": {},
     "output_type": "execute_result"
    }
   ],
   "source": [
    "    var rate_count = train_rating_2.map(x => (x._1, 1)).reduceByKey((a, b) => a + b)\n",
    "    var rate_sum = train_rating_2.map(x => (x._1, x._3)).reduceByKey((a, b) => a + b)"
   ]
  },
  {
   "cell_type": "code",
   "execution_count": 17,
   "metadata": {},
   "outputs": [
    {
     "data": {
      "text/plain": [
       "rate_avg = MapPartitionsRDD[63] at map at <console>:54\n",
       "n_train_rate = MapPartitionsRDD[68] at map at <console>:55\n"
      ]
     },
     "metadata": {},
     "output_type": "display_data"
    },
    {
     "data": {
      "text/plain": [
       "MapPartitionsRDD[68] at map at <console>:55"
      ]
     },
     "execution_count": 17,
     "metadata": {},
     "output_type": "execute_result"
    }
   ],
   "source": [
    "var rate_avg = rate_count.join(rate_sum).map(x=>(x._1, x._2._2/x._2._1))\n",
    "var n_train_rate = train_rating_2.map(x=>(x._1,(x._2,x._3))).join(rate_avg).map(x=>(x._1, x._2._1._1, (x._2._1._2 - x._2._2)))\n"
   ]
  },
  {
   "cell_type": "code",
   "execution_count": 22,
   "metadata": {},
   "outputs": [
    {
     "name": "stdout",
     "output_type": "stream",
     "text": [
      "(18624,25056,0.16666666666666652)"
     ]
    }
   ],
   "source": [
    "print(n_train_rate.first())"
   ]
  },
  {
   "cell_type": "code",
   "execution_count": 25,
   "metadata": {},
   "outputs": [
    {
     "data": {
      "text/plain": [
       "user_item = ShuffledRDD[72] at groupBy at <console>:49\n"
      ]
     },
     "metadata": {},
     "output_type": "display_data"
    },
    {
     "data": {
      "text/plain": [
       "ShuffledRDD[72] at groupBy at <console>:49"
      ]
     },
     "execution_count": 25,
     "metadata": {},
     "output_type": "execute_result"
    }
   ],
   "source": [
    "val user_item = train_rating_2.groupBy(x=>x._1)"
   ]
  },
  {
   "cell_type": "code",
   "execution_count": 27,
   "metadata": {},
   "outputs": [
    {
     "name": "stdout",
     "output_type": "stream",
     "text": [
      "(18624,CompactBuffer((18624,25056,4.0), (18624,2103,3.0), (18624,10089,5.0), (18624,3519,5.0), (18624,27861,3.0), (18624,24822,3.0)))"
     ]
    }
   ],
   "source": [
    "print(user_item.first())"
   ]
  },
  {
   "cell_type": "code",
   "execution_count": 118,
   "metadata": {},
   "outputs": [
    {
     "data": {
      "text/plain": [
       "user_key = MapPartitionsRDD[251] at map at <console>:51\n"
      ]
     },
     "metadata": {},
     "output_type": "display_data"
    },
    {
     "data": {
      "text/plain": [
       "MapPartitionsRDD[251] at map at <console>:51"
      ]
     },
     "execution_count": 118,
     "metadata": {},
     "output_type": "execute_result"
    }
   ],
   "source": [
    "// item based\n",
    "\n",
    "var user_key = train_rating_2.map(x=>(x._1,x))"
   ]
  },
  {
   "cell_type": "code",
   "execution_count": 119,
   "metadata": {},
   "outputs": [
    {
     "name": "stdout",
     "output_type": "stream",
     "text": [
      "(26859,(26859,8611,3.0))"
     ]
    }
   ],
   "source": [
    "print(user_key.first())"
   ]
  },
  {
   "cell_type": "code",
   "execution_count": 136,
   "metadata": {},
   "outputs": [
    {
     "data": {
      "text/plain": [
       "user_join = MapPartitionsRDD[280] at map at <console>:51\n"
      ]
     },
     "metadata": {},
     "output_type": "display_data"
    },
    {
     "data": {
      "text/plain": [
       "lastException: Throwable = null\n"
      ]
     },
     "metadata": {},
     "output_type": "display_data"
    },
    {
     "data": {
      "text/plain": [
       "MapPartitionsRDD[280] at map at <console>:51"
      ]
     },
     "execution_count": 136,
     "metadata": {},
     "output_type": "execute_result"
    }
   ],
   "source": [
    "var user_join = user_key.join(user_key).map(x=>(x._1,((x._2._1._2,x._2._1._3),(x._2._2._2,x._2._2._3))))// (user, ((i1,r1),(i2,r2)))\n"
   ]
  },
  {
   "cell_type": "code",
   "execution_count": 137,
   "metadata": {},
   "outputs": [
    {
     "data": {
      "text/plain": [
       "[(18624,((25056,4.0),(25056,4.0))), (18624,((25056,4.0),(2103,3.0))), (18624,((25056,4.0),(10089,5.0))), (18624,((25056,4.0),(3519,5.0))), (18624,((25056,4.0),(27861,3.0))), (18624,((25056,4.0),(24822,3.0))), (18624,((2103,3.0),(25056,4.0))), (18624,((2103,3.0),(2103,3.0))), (18624,((2103,3.0),(10089,5.0))), (18624,((2103,3.0),(3519,5.0))), (18624,((2103,3.0),(27861,3.0))), (18624,((2103,3.0),(24822,3.0))), (18624,((10089,5.0),(25056,4.0))), (18624,((10089,5.0),(2103,3.0))), (18624,((10089,5.0),(10089,5.0))), (18624,((10089,5.0),(3519,5.0))), (18624,((10089,5.0),(27861,3.0))), (18624,((10089,5.0),(24822,3.0))), (18624,((3519,5.0),(25056,4.0))), (18624,((3519,5.0),(2103,3.0)))]"
      ]
     },
     "execution_count": 137,
     "metadata": {},
     "output_type": "execute_result"
    }
   ],
   "source": [
    "user_join.take(20)"
   ]
  },
  {
   "cell_type": "code",
   "execution_count": 9,
   "metadata": {},
   "outputs": [
    {
     "data": {
      "text/plain": [
       "item_pair = MapPartitionsRDD[316] at map at <console>:53\n"
      ]
     },
     "metadata": {},
     "output_type": "display_data"
    },
    {
     "data": {
      "text/plain": [
       "MapPartitionsRDD[316] at map at <console>:53"
      ]
     },
     "execution_count": 9,
     "metadata": {},
     "output_type": "execute_result"
    }
   ],
   "source": [
    "var item_pair = user_join.map(x=>((x._2._1._1,x._2._2._1), (x._1, x._2._1._2,x._2._2._2)))"
   ]
  },
  {
   "cell_type": "code",
   "execution_count": 10,
   "metadata": {},
   "outputs": [
    {
     "data": {
      "text/plain": [
       "[((25056,25056),(18624,4.0,4.0)), ((25056,2103),(18624,4.0,3.0)), ((25056,10089),(18624,4.0,5.0)), ((25056,3519),(18624,4.0,5.0)), ((25056,27861),(18624,4.0,3.0)), ((25056,24822),(18624,4.0,3.0)), ((2103,25056),(18624,3.0,4.0)), ((2103,2103),(18624,3.0,3.0)), ((2103,10089),(18624,3.0,5.0)), ((2103,3519),(18624,3.0,5.0)), ((2103,27861),(18624,3.0,3.0)), ((2103,24822),(18624,3.0,3.0)), ((10089,25056),(18624,5.0,4.0)), ((10089,2103),(18624,5.0,3.0)), ((10089,10089),(18624,5.0,5.0)), ((10089,3519),(18624,5.0,5.0)), ((10089,27861),(18624,5.0,3.0)), ((10089,24822),(18624,5.0,3.0)), ((3519,25056),(18624,5.0,4.0)), ((3519,2103),(18624,5.0,3.0))]"
      ]
     },
     "execution_count": 10,
     "metadata": {},
     "output_type": "execute_result"
    }
   ],
   "source": [
    "item_pair.take(20)"
   ]
  },
  {
   "cell_type": "code",
   "execution_count": 124,
   "metadata": {},
   "outputs": [
    {
     "data": {
      "text/plain": [
       "item_pair_sum = ShuffledRDD[259] at reduceByKey at <console>:55\n"
      ]
     },
     "metadata": {},
     "output_type": "display_data"
    },
    {
     "data": {
      "text/plain": [
       "ShuffledRDD[259] at reduceByKey at <console>:55"
      ]
     },
     "execution_count": 124,
     "metadata": {},
     "output_type": "execute_result"
    }
   ],
   "source": [
    "var item_pair_sum = item_pair.map(x=>(x._1, (x._2._2,x._2._3))).reduceByKey((x,y)=>(x._1+y._1, x._2+y._2))\n"
   ]
  },
  {
   "cell_type": "code",
   "execution_count": 125,
   "metadata": {},
   "outputs": [
    {
     "data": {
      "text/plain": [
       "[((25180,27654),(4.0,2.0)), ((17057,21342),(1.0,3.0)), ((14793,23700),(6.0,3.0)), ((8017,24442),(3.0,2.0)), ((12084,24963),(3.0,4.0))]"
      ]
     },
     "execution_count": 125,
     "metadata": {},
     "output_type": "execute_result"
    }
   ],
   "source": [
    "item_pair_sum.take(5)"
   ]
  },
  {
   "cell_type": "code",
   "execution_count": 126,
   "metadata": {},
   "outputs": [
    {
     "data": {
      "text/plain": [
       "item_pair_count = ShuffledRDD[261] at reduceByKey at <console>:55\n"
      ]
     },
     "metadata": {},
     "output_type": "display_data"
    },
    {
     "data": {
      "text/plain": [
       "ShuffledRDD[261] at reduceByKey at <console>:55"
      ]
     },
     "execution_count": 126,
     "metadata": {},
     "output_type": "execute_result"
    }
   ],
   "source": [
    "var item_pair_count = item_pair.map(x=>(x._1,1)).reduceByKey((x,y)=>(x+y))// ((i1,i2), user_count)\n"
   ]
  },
  {
   "cell_type": "code",
   "execution_count": 127,
   "metadata": {},
   "outputs": [
    {
     "data": {
      "text/plain": [
       "item_pair_avg = MapPartitionsRDD[265] at map at <console>:60\n"
      ]
     },
     "metadata": {},
     "output_type": "display_data"
    },
    {
     "data": {
      "text/plain": [
       "MapPartitionsRDD[265] at map at <console>:60"
      ]
     },
     "execution_count": 127,
     "metadata": {},
     "output_type": "execute_result"
    }
   ],
   "source": [
    "    var item_pair_avg = item_pair_sum.join(item_pair_count)// ((i1,i2),((r1.sum,r2.sum),user_count))\n",
    "      .map(x=>(x._1, (x._2._1._1/x._2._2, x._2._1._2/x._2._2)))// ((i1,i2),(r1.avg, r2.avg))"
   ]
  },
  {
   "cell_type": "code",
   "execution_count": 128,
   "metadata": {},
   "outputs": [
    {
     "data": {
      "text/plain": [
       "item_pair_normialize = MapPartitionsRDD[269] at map at <console>:62\n"
      ]
     },
     "metadata": {},
     "output_type": "display_data"
    },
    {
     "data": {
      "text/plain": [
       "MapPartitionsRDD[269] at map at <console>:62"
      ]
     },
     "execution_count": 128,
     "metadata": {},
     "output_type": "execute_result"
    }
   ],
   "source": [
    "var item_pair_normialize = item_pair.join(item_pair_avg)// ((i1,i2), ((u,r1,r2),(r1.avg, r2.avg)))\n",
    "    .map(x=>(x._1, (x._2._1._1,x._2._1._2-x._2._2._1,x._2._1._3-x._2._2._2)))"
   ]
  },
  {
   "cell_type": "code",
   "execution_count": 91,
   "metadata": {},
   "outputs": [
    {
     "data": {
      "text/plain": [
       "item_pair_norm_group = ShuffledRDD[150] at groupByKey at <console>:63\n"
      ]
     },
     "metadata": {},
     "output_type": "display_data"
    },
    {
     "data": {
      "text/plain": [
       "ShuffledRDD[150] at groupByKey at <console>:63"
      ]
     },
     "execution_count": 91,
     "metadata": {},
     "output_type": "execute_result"
    }
   ],
   "source": [
    "var item_pair_norm_group = item_pair_normialize.groupByKey()"
   ]
  },
  {
   "cell_type": "code",
   "execution_count": 92,
   "metadata": {},
   "outputs": [
    {
     "data": {
      "text/plain": [
       "Name: org.apache.spark.SparkException\n",
       "Message: Job 45 cancelled as part of cancellation of all jobs\n",
       "StackTrace:   at org.apache.spark.scheduler.DAGScheduler.org$apache$spark$scheduler$DAGScheduler$$failJobAndIndependentStages(DAGScheduler.scala:1602)\n",
       "  at org.apache.spark.scheduler.DAGScheduler.handleJobCancellation(DAGScheduler.scala:1542)\n",
       "  at org.apache.spark.scheduler.DAGScheduler$$anonfun$doCancelAllJobs$1.apply$mcVI$sp(DAGScheduler.scala:735)\n",
       "  at org.apache.spark.scheduler.DAGScheduler$$anonfun$doCancelAllJobs$1.apply(DAGScheduler.scala:735)\n",
       "  at org.apache.spark.scheduler.DAGScheduler$$anonfun$doCancelAllJobs$1.apply(DAGScheduler.scala:735)\n",
       "  at scala.collection.mutable.HashSet.foreach(HashSet.scala:78)\n",
       "  at org.apache.spark.scheduler.DAGScheduler.doCancelAllJobs(DAGScheduler.scala:735)\n",
       "  at org.apache.spark.scheduler.DAGSchedulerEventProcessLoop.doOnReceive(DAGScheduler.scala:1795)\n",
       "  at org.apache.spark.scheduler.DAGSchedulerEventProcessLoop.onReceive(DAGScheduler.scala:1772)\n",
       "  at org.apache.spark.scheduler.DAGSchedulerEventProcessLoop.onReceive(DAGScheduler.scala:1761)\n",
       "  at org.apache.spark.util.EventLoop$$anon$1.run(EventLoop.scala:48)\n",
       "  at org.apache.spark.scheduler.DAGScheduler.runJob(DAGScheduler.scala:642)\n",
       "  at org.apache.spark.SparkContext.runJob(SparkContext.scala:2034)\n",
       "  at org.apache.spark.SparkContext.runJob(SparkContext.scala:2055)\n",
       "  at org.apache.spark.SparkContext.runJob(SparkContext.scala:2074)\n",
       "  at org.apache.spark.rdd.RDD$$anonfun$take$1.apply(RDD.scala:1358)\n",
       "  at org.apache.spark.rdd.RDDOperationScope$.withScope(RDDOperationScope.scala:151)\n",
       "  at org.apache.spark.rdd.RDDOperationScope$.withScope(RDDOperationScope.scala:112)\n",
       "  at org.apache.spark.rdd.RDD.withScope(RDD.scala:363)\n",
       "  at org.apache.spark.rdd.RDD.take(RDD.scala:1331)"
      ]
     },
     "execution_count": 92,
     "metadata": {},
     "output_type": "execute_result"
    }
   ],
   "source": [
    "item_pair_norm_group.take(10)"
   ]
  },
  {
   "cell_type": "code",
   "execution_count": 140,
   "metadata": {},
   "outputs": [
    {
     "data": {
      "text/plain": [
       "test_user = MapPartitionsRDD[284] at map at <console>:57\n",
       "train_user_item = MapPartitionsRDD[285] at map at <console>:58\n",
       "test_user_trainitem = UnionRDD[291] at $plus$plus at <console>:59\n",
       "test_user_group = MapPartitionsRDD[293] at map at <console>:60\n",
       "test_user_item = MapPartitionsRDD[294] at map at <console>:66\n",
       "test_user_all = MapPartitionsRDD[298] at map at <console>:67\n"
      ]
     },
     "metadata": {},
     "output_type": "display_data"
    },
    {
     "data": {
      "text/plain": [
       "MapPartitionsRDD[298] at map at <console>:67"
      ]
     },
     "execution_count": 140,
     "metadata": {},
     "output_type": "execute_result"
    }
   ],
   "source": [
    "    var test_user = test_rating_2.map(x=>(x._1,1)).groupByKey().map(x=>(x._1,1))// (user,1) from test\n",
    "    var train_user_item = train_rating_2.map(x=>(x._1,x._2))// (user,item) from train\n",
    "    var test_user_trainitem = test_user.join(train_user_item).map(x=>(x._1, x._2._2))++test_user.map(x=>(x._1,-1))\n",
    "    var test_user_group = test_user_trainitem.groupByKey().map(record=>{\n",
    "      val key = record._1\n",
    "      val value = record._2\n",
    "      val newvalue = value.filter(i=>i!= -1)\n",
    "      (key, newvalue)\n",
    "    })// (user, (i1,i2...)) i from train\n",
    "    var test_user_item = test_rating_2.map(x=>(x._1,x._2))// (user, test_item) from test\n",
    "    var test_user_all = test_user_group.join(test_user_item).map(x=>((x._1, x._2._2), x._2._1))// ((user,test_item),(i1,i2...))\n"
   ]
  },
  {
   "cell_type": "code",
   "execution_count": 141,
   "metadata": {},
   "outputs": [
    {
     "data": {
      "text/plain": [
       "[((7532,10899),List(9931, 7562, 24000, 27990, 20592, 14356, 4630, 7426)), ((18624,26389),List(25056, 2103, 10089, 3519, 27861, 24822)), ((1084,3129),List(3785, 4312, 816, 12280, 12983, 5705, 2830, 15494, 13962)), ((9200,4423),List(4705, 18381, 627)), ((20484,7644),List(3976, 4635, 21632)), ((10984,17244),List(16926, 23726, 5043)), ((6400,22698),List(27943, 17007, 3970, 14758, 1307, 24455)), ((23776,19542),List(28185, 5543, 6567, 8602, 4419, 3544, 14222, 20468, 14956, 2894, 15905, 2023, 2382, 8624, 16017, 5421, 19531, 12789, 7638)), ((23776,10131),List(28185, 5543, 6567, 8602, 4419, 3544, 14222, 20468, 14956, 2894, 15905, 2023, 2382, 8624, 16017, 5421, 19531, 12789, 7638)), ((9804,8818),List(9363, 9851, 14269, 27290, 5126, 20089, 27707, 15847, 11855, 6490, 26634, 21076, 22637, 22672))]"
      ]
     },
     "execution_count": 141,
     "metadata": {},
     "output_type": "execute_result"
    }
   ],
   "source": [
    "test_user_all.take(10)"
   ]
  },
  {
   "cell_type": "code",
   "execution_count": 142,
   "metadata": {},
   "outputs": [
    {
     "data": {
      "text/plain": [
       "test_item_pairs = MapPartitionsRDD[300] at map at <console>:63\n"
      ]
     },
     "metadata": {},
     "output_type": "display_data"
    },
    {
     "data": {
      "text/plain": [
       "MapPartitionsRDD[300] at map at <console>:63"
      ]
     },
     "execution_count": 142,
     "metadata": {},
     "output_type": "execute_result"
    }
   ],
   "source": [
    "    var test_item_pairs = test_user_all.flatMap(record=>{\n",
    "      val test_item = record._1._2\n",
    "      val train_item = record._2\n",
    "      val cand_pair = train_item.map(x=>(test_item, x))\n",
    "      cand_pair\n",
    "    }).map(y=>(y,1))//(((test_item1, i1),1),((test_item1,i2),1),.....)"
   ]
  },
  {
   "cell_type": "code",
   "execution_count": 143,
   "metadata": {},
   "outputs": [
    {
     "data": {
      "text/plain": [
       "[((10899,9931),1), ((10899,7562),1), ((10899,24000),1), ((10899,27990),1), ((10899,20592),1)]"
      ]
     },
     "execution_count": 143,
     "metadata": {},
     "output_type": "execute_result"
    }
   ],
   "source": [
    "test_item_pairs.take(5)"
   ]
  },
  {
   "cell_type": "code",
   "execution_count": 144,
   "metadata": {},
   "outputs": [
    {
     "data": {
      "text/plain": [
       "final_train_item_pairs = MapPartitionsRDD[304] at map at <console>:66\n"
      ]
     },
     "metadata": {},
     "output_type": "display_data"
    },
    {
     "data": {
      "text/plain": [
       "MapPartitionsRDD[304] at map at <console>:66"
      ]
     },
     "execution_count": 144,
     "metadata": {},
     "output_type": "execute_result"
    }
   ],
   "source": [
    "var final_train_item_pairs = item_pair.join(test_item_pairs).map(x=>(x._1, x._2._1))//((i1,i2),(u,r1,r2))\n"
   ]
  },
  {
   "cell_type": "code",
   "execution_count": 11,
   "metadata": {},
   "outputs": [
    {
     "data": {
      "text/plain": [
       "[((25056,25056),(18624,4.0,4.0)), ((25056,2103),(18624,4.0,3.0)), ((25056,10089),(18624,4.0,5.0)), ((25056,3519),(18624,4.0,5.0)), ((25056,27861),(18624,4.0,3.0))]"
      ]
     },
     "execution_count": 11,
     "metadata": {},
     "output_type": "execute_result"
    }
   ],
   "source": [
    "item_pair.take(5)"
   ]
  },
  {
   "cell_type": "code",
   "execution_count": 13,
   "metadata": {},
   "outputs": [
    {
     "data": {
      "text/plain": [
       "item_pair_group = ShuffledRDD[329] at groupByKey at <console>:72\n",
       "final_train_item_pairs = MapPartitionsRDD[333] at map at <console>:73\n",
       "item_pair_sum = ShuffledRDD[335] at reduceByKey at <console>:80\n",
       "item_pair_count = ShuffledRDD[337] at reduceByKey at <console>:85\n",
       "item_pair_avg = MapPartitionsRDD[341] at map at <console>:88\n",
       "item_pair_normialize = MapPartitionsRDD[345] at map at <console>:90\n"
      ]
     },
     "metadata": {},
     "output_type": "display_data"
    },
    {
     "data": {
      "text/plain": [
       "MapPartitionsRDD[345] at map at <console>:90"
      ]
     },
     "execution_count": 13,
     "metadata": {},
     "output_type": "execute_result"
    }
   ],
   "source": [
    "    var item_pair_group = item_pair.groupByKey()\n",
    "    var final_train_item_pairs = item_pair_group.join(test_item_pairs).map(x=>(x._1, x._2._1))// candidiate ((i1,i2),((u,r1,r2),(u,r1,r2),(u,r1,r2)))\n",
    "\n",
    "    var item_pair_sum = final_train_item_pairs.flatMap(record=>{\n",
    "      val item_pair = record._1\n",
    "      val user_rating = record._2\n",
    "      val rating_sum = user_rating.map(x=>(item_pair, (x._2, x._3)))\n",
    "      rating_sum\n",
    "    }).reduceByKey((x,y)=>(x._1+y._1, x._2+y._2))\n",
    "\n",
    "    var item_pair_count = final_train_item_pairs.map(record=>{\n",
    "      val item_pair = record._1\n",
    "      (record._1, 1)\n",
    "    }).reduceByKey((x,y)=>(x+y))\n",
    "\n",
    "    var item_pair_avg = item_pair_sum.join(item_pair_count)// ((i1,i2),((r1.sum,r2.sum),user_count))\n",
    "      .map(x=>(x._1, (x._2._1._1/x._2._2, x._2._1._2/x._2._2)))// ((i1,i2),(r1.avg, r2.avg))\n",
    "    var item_pair_normialize = item_pair.join(item_pair_avg)// ((i1,i2), ((u,r1,r2),(r1.avg, r2.avg)))\n",
    "      .map(x=>(x._1, (x._2._1._1,x._2._1._2-x._2._2._1,x._2._1._3-x._2._2._2)))//((i1,i2),(u,r1_norm,r2_norm))"
   ]
  },
  {
   "cell_type": "code",
   "execution_count": null,
   "metadata": {},
   "outputs": [],
   "source": []
  }
 ],
 "metadata": {
  "kernelspec": {
   "display_name": "spark2.3.1 - Scala",
   "language": "scala",
   "name": "spark2.3.1_scala"
  },
  "language_info": {
   "codemirror_mode": "text/x-scala",
   "file_extension": ".scala",
   "mimetype": "text/x-scala",
   "name": "scala",
   "pygments_lexer": "scala",
   "version": "2.11.8"
  }
 },
 "nbformat": 4,
 "nbformat_minor": 2
}
