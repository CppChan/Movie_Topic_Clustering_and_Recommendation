{
 "cells": [
  {
   "cell_type": "code",
   "execution_count": 3,
   "metadata": {},
   "outputs": [],
   "source": [
    "import tensorflow as tf\n",
    "from train_ import train"
   ]
  },
  {
   "cell_type": "code",
   "execution_count": null,
   "metadata": {},
   "outputs": [
    {
     "name": "stdout",
     "output_type": "stream",
     "text": [
      "num_layer: 3, epoch_nr: 0, train_loss: 1.305, test_loss: 0.960\n",
      "num_layer: 3, epoch_nr: 5, train_loss: 0.973, test_loss: 0.961\n",
      "num_layer: 3, epoch_nr: 10, train_loss: 0.927, test_loss: 0.980\n"
     ]
    }
   ],
   "source": [
    "test_layer={}\n",
    "for layer in range(3,22,3):\n",
    "    tr = train(num_layer=layer, reg = None)\n",
    "    test_layer[layer]=tr.train(None)"
   ]
  },
  {
   "cell_type": "code",
   "execution_count": null,
   "metadata": {},
   "outputs": [],
   "source": []
  }
 ],
 "metadata": {
  "kernelspec": {
   "display_name": "Python 2",
   "language": "python",
   "name": "python2"
  },
  "language_info": {
   "codemirror_mode": {
    "name": "ipython",
    "version": 2
   },
   "file_extension": ".py",
   "mimetype": "text/x-python",
   "name": "python",
   "nbconvert_exporter": "python",
   "pygments_lexer": "ipython2",
   "version": "2.7.13"
  }
 },
 "nbformat": 4,
 "nbformat_minor": 2
}
